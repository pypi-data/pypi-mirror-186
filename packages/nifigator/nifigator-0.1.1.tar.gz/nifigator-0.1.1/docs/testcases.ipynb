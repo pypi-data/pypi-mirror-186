{
 "cells": [
  {
   "cell_type": "code",
   "execution_count": null,
   "id": "72e99b2a",
   "metadata": {},
   "outputs": [],
   "source": [
    "from nifigator import NifContext, OffsetBasedString\n",
    "from rdflib.term import URIRef\n",
    "context = NifContext(\n",
    "  uri=\"https://mangosaurus.eu/rdf-data/doc_1\",\n",
    "  URIScheme=OffsetBasedString,\n",
    "  isString=\"The cat sat on the mat. Felix was his name.\",\n",
    ")\n",
    "assert type(context) == NifContext\n",
    "assert context.isString == \"The cat sat on the mat. Felix was his name.\"\n",
    "assert context.uri == URIRef(\"https://mangosaurus.eu/rdf-data/doc_1\")\n",
    "assert context.URIScheme == OffsetBasedString"
   ]
  },
  {
   "cell_type": "code",
   "execution_count": null,
   "id": "b0a0ee68",
   "metadata": {},
   "outputs": [],
   "source": [
    "from nifigator import NifContextCollection\n",
    "collection = NifContextCollection(uri=\"https://mangosaurus.eu/rdf-data\")\n",
    "collection.add_context(context)\n",
    "assert type(collection) == NifContextCollection\n",
    "assert collection.conformsTo == URIRef('http://persistence.uni-leipzig.org/nlp2rdf/ontologies/nif-core/2.1')\n",
    "assert collection.contexts == [context]"
   ]
  },
  {
   "cell_type": "code",
   "execution_count": null,
   "id": "fa8fee03",
   "metadata": {},
   "outputs": [],
   "source": [
    "import stanza\n",
    "nlp = stanza.Pipeline(\"en\", verbose=False)\n",
    "stanza_dict = nlp(context.isString).to_dict()\n",
    "context.load_from_dict(stanza_dict)\n",
    "\n",
    "assert context.sentences[0].anchorOf == \"The cat sat on the mat.\"\n",
    "assert context.sentences[1].anchorOf == \"Felix was his name.\"\n",
    "\n",
    "word = context.sentences[1].words[0]\n",
    "assert word.uri == URIRef(\"https://mangosaurus.eu/rdf-data/doc_1#offset_24_29\")\n",
    "assert str(word.referenceContext) == str(context)\n",
    "assert word.beginIndex == 24\n",
    "assert word.endIndex == 29\n",
    "assert word.anchorOf == \"Felix\"\n",
    "assert word.lemma == \"Felix\"\n",
    "assert word.morphofeats == [URIRef('http://purl.org/olia/olia.owl#Singular')]\n",
    "assert word.dependency[0].uri == URIRef('https://mangosaurus.eu/rdf-data/doc_1#offset_38_42')\n",
    "assert word.dependencyRelationType == 'nsubj'"
   ]
  },
  {
   "cell_type": "code",
   "execution_count": null,
   "id": "4a9c9d0a",
   "metadata": {},
   "outputs": [],
   "source": [
    "collection.contexts[0].uri"
   ]
  },
  {
   "cell_type": "code",
   "execution_count": null,
   "id": "717732ac",
   "metadata": {
    "scrolled": true
   },
   "outputs": [],
   "source": [
    "from nifigator import NifGraph\n",
    "g = NifGraph(collection=collection)\n",
    "collection = g.collection"
   ]
  },
  {
   "cell_type": "code",
   "execution_count": null,
   "id": "840e8139",
   "metadata": {},
   "outputs": [],
   "source": [
    "context = collection.contexts[0]\n",
    "assert type(context) == NifContext\n",
    "assert context.isString == \"The cat sat on the mat. Felix was his name.\"\n",
    "assert context.uri == URIRef(\"https://mangosaurus.eu/rdf-data/doc_1\")\n",
    "assert context.URIScheme == URIRef('http://persistence.uni-leipzig.org/nlp2rdf/ontologies/nif-core#OffsetBasedString')\n",
    "\n",
    "assert context.sentences[0].anchorOf == \"The cat sat on the mat.\"\n",
    "assert context.sentences[1].anchorOf == \"Felix was his name.\"\n",
    "\n",
    "word = context.sentences[1].words[0]\n",
    "assert word.uri == URIRef(\"https://mangosaurus.eu/rdf-data/doc_1#offset_24_29\")\n",
    "assert str(word.referenceContext) == str(context)\n",
    "assert word.beginIndex == 24\n",
    "assert word.endIndex == 29\n",
    "assert word.anchorOf == \"Felix\"\n",
    "assert word.lemma == \"Felix\"\n",
    "assert word.morphofeats == [URIRef('http://purl.org/olia/olia.owl#Singular')]\n",
    "assert word.dependency[0].uri == URIRef('https://mangosaurus.eu/rdf-data/doc_1#offset_38_42')\n",
    "assert word.dependencyRelationType == 'nsubj'"
   ]
  },
  {
   "cell_type": "code",
   "execution_count": null,
   "id": "68b8d777",
   "metadata": {},
   "outputs": [],
   "source": [
    "print(g.serialize(format=\"turtle\")[0:1890])"
   ]
  },
  {
   "cell_type": "code",
   "execution_count": null,
   "id": "8862f940",
   "metadata": {},
   "outputs": [],
   "source": []
  }
 ],
 "metadata": {
  "kernelspec": {
   "display_name": "Python 3 (ipykernel)",
   "language": "python",
   "name": "python3"
  },
  "language_info": {
   "codemirror_mode": {
    "name": "ipython",
    "version": 3
   },
   "file_extension": ".py",
   "mimetype": "text/x-python",
   "name": "python",
   "nbconvert_exporter": "python",
   "pygments_lexer": "ipython3",
   "version": "3.9.0"
  }
 },
 "nbformat": 4,
 "nbformat_minor": 5
}
