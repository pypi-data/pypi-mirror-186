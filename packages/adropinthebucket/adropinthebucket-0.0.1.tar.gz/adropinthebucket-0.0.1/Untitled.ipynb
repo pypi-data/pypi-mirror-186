{
 "cells": [
  {
   "cell_type": "code",
   "execution_count": 2,
   "id": "e666d984-d5ee-4644-9c6c-f9f864f00e04",
   "metadata": {},
   "outputs": [],
   "source": [
    "import pandas as pd\n",
    "import numpy as np"
   ]
  },
  {
   "cell_type": "code",
   "execution_count": 4,
   "id": "4c0e97fd-e1cd-4f8d-add5-bc3cc0252a98",
   "metadata": {},
   "outputs": [],
   "source": [
    "df = pd.read_csv('dbaas-metrics-2023-01-05 11_12am.csv')"
   ]
  },
  {
   "cell_type": "code",
   "execution_count": 7,
   "id": "debaa1d4-1cab-4742-ae3c-d0839b6dc1f8",
   "metadata": {},
   "outputs": [],
   "source": [
    "max_val = df['TOTAL_DBAAS_GROSS'].max()\n",
    "min_val = df['TOTAL_DBAAS_GROSS'].min()\n",
    "\n",
    "bins = np.linspace(min_val, max_val, 4)\n",
    "labels = ['small', 'medium', 'large']\n",
    "\n",
    "df['bins'] = pd.cut(df['TOTAL_DBAAS_GROSS'], bins=bins, labels=labels, include_lowest=True)\n",
    "\n"
   ]
  },
  {
   "cell_type": "code",
   "execution_count": 14,
   "id": "5b7bcc09-f3b2-4532-bcc3-7ee13574076c",
   "metadata": {},
   "outputs": [
    {
     "data": {
      "image/png": "[encoded data removed]",
      "text/plain": [
       "<Figure size 640x480 with 1 Axes>"
      ]
     },
     "metadata": {},
     "output_type": "display_data"
    }
   ],
   "source": [
    "import jenkspy\n",
    "import matplotlib.pyplot as plt\n",
    "\n",
    "breaks = jenkspy.jenks_breaks(df['TOTAL_DBAAS_GROSS'], n_classes=3)\n",
    "\n",
    "df['bin_cut_break'] = pd.cut(df['TOTAL_DBAAS_GROSS'], bins=breaks, labels=labels, include_lowest=True)\n",
    "\n",
    "plt.hist(df['bin_cut_break'], bins=3)\n",
    "plt.show()"
   ]
  },
  {
   "cell_type": "code",
   "execution_count": 15,
   "id": "f61743ca-a76f-4132-849c-5d5f45ebe377",
   "metadata": {},
   "outputs": [
    {
     "data": {
      "text/plain": [
       "[0.0, 674.96, 1972.65, 7755.91]"
      ]
     },
     "execution_count": 15,
     "metadata": {},
     "output_type": "execute_result"
    }
   ],
   "source": [
    "breaks"
   ]
  }
 ],
 "metadata": {
  "kernelspec": {
   "display_name": "Python 3 (ipykernel)",
   "language": "python",
   "name": "python3"
  },
  "language_info": {
   "codemirror_mode": {
    "name": "ipython",
    "version": 3
   },
   "file_extension": ".py",
   "mimetype": "text/x-python",
   "name": "python",
   "nbconvert_exporter": "python",
   "pygments_lexer": "ipython3",
   "version": "3.10.8"
  }
 },
 "nbformat": 4,
 "nbformat_minor": 5
}
