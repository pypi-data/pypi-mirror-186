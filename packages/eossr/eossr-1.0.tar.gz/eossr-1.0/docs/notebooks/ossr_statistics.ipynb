{
 "cells": [
  {
   "cell_type": "markdown",
   "id": "6f9a9077",
   "metadata": {},
   "source": [
    "# OSSR Statistics"
   ]
  },
  {
   "cell_type": "code",
   "execution_count": null,
   "id": "dbb762f7",
   "metadata": {
    "nbsphinx": "hidden"
   },
   "outputs": [],
   "source": [
    "from eossr.api import get_ossr_records, get_zenodo_records\n",
    "from IPython.display import Markdown as md\n",
    "from datetime import date"
   ]
  },
  {
   "cell_type": "code",
   "execution_count": null,
   "id": "b9668e64",
   "metadata": {
    "nbsphinx": "hidden"
   },
   "outputs": [],
   "source": [
    "title = f\"## OSSR statistics generated the {date.today()}\"\n",
    "\n",
    "ossr_records = get_ossr_records()\n",
    "stats_names = ['downloads', 'unique_downloads', 'views', 'unique_views', ]\n",
    "sum_stats = {key: sum([int(rec.data['stats'][key]) for rec in ossr_records]) for key in stats_names}\n",
    "\n",
    "text = f\"## There are {len(ossr_records)} records in the OSSR.\\n\"\n",
    "for key, value in sum_stats.items():\n",
    "    text+=f\"{key.replace('_', ' ')}: {value}\\n\\n\"\n",
    "    \n"
   ]
  },
  {
   "cell_type": "code",
   "execution_count": null,
   "id": "fe656e0b",
   "metadata": {},
   "outputs": [],
   "source": [
    "md(title)"
   ]
  },
  {
   "cell_type": "code",
   "execution_count": null,
   "id": "df351e32",
   "metadata": {},
   "outputs": [],
   "source": [
    "md(text)"
   ]
  },
  {
   "cell_type": "code",
   "execution_count": null,
   "id": "d0e84058",
   "metadata": {
    "nbsphinx": "hidden"
   },
   "outputs": [],
   "source": [
    "escape2020_community_records = get_zenodo_records(communities='escape2020')\n",
    "\n",
    "url_escape2020_not_ossr = 'https://zenodo.org/communities/escape2020/search?page=1&size=20&q=&type=publication&type=lesson&type=poster'\n",
    "text = f\"**Note that there are also {len(escape2020_community_records) - len(ossr_records)} records in the `escape2020` community that are not software or datasets.**\\n\\n\"\n",
    "text += f\"You may find them [directly on Zenodo]({url_escape2020_not_ossr})\"\n"
   ]
  },
  {
   "cell_type": "code",
   "execution_count": null,
   "id": "696416cf",
   "metadata": {},
   "outputs": [],
   "source": [
    "md(text)"
   ]
  },
  {
   "cell_type": "code",
   "execution_count": null,
   "id": "ae5204cf",
   "metadata": {},
   "outputs": [],
   "source": []
  }
 ],
 "metadata": {
  "celltoolbar": "Éditer les Méta-Données",
  "kernelspec": {
   "display_name": "Python 3",
   "language": "python",
   "name": "python3"
  },
  "language_info": {
   "codemirror_mode": {
    "name": "ipython",
    "version": 3
   },
   "file_extension": ".py",
   "mimetype": "text/x-python",
   "name": "python",
   "nbconvert_exporter": "python",
   "pygments_lexer": "ipython3",
   "version": "3.9.2"
  }
 },
 "nbformat": 4,
 "nbformat_minor": 5
}
