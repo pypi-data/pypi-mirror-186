{
 "cells": [
  {
   "cell_type": "markdown",
   "metadata": {
    "nbsphinx": "hidden"
   },
   "source": [
    "This notebook is part of the `nbsphinx` documentation: https://nbsphinx.readthedocs.io/."
   ]
  },
  {
   "cell_type": "markdown",
   "metadata": {},
   "source": [
    "# Creating Thumbnail Galleries\n",
    "\n",
    "Inspired by [Sphinx-Gallery](https://sphinx-gallery.github.io/),\n",
    "you can create thumbnail galleries from a list of Jupyter notebooks\n",
    "(or other Sphinx source files).\n",
    "\n",
    "`nbsphinx` does *not* provide any gallery styles,\n",
    "but you can easily use the styles from Sphinx-Gallery\n",
    "by installing it:\n",
    "\n",
    "    python3 -m pip install sphinx-gallery\n",
    "\n",
    "... and loading the styles in your `conf.py` with:\n",
    "\n",
    "```python\n",
    "extensions = [\n",
    "    'nbsphinx',\n",
    "    'sphinx_gallery.load_style',\n",
    "    # more extensions, if needed ...\n",
    "]\n",
    "```\n",
    "\n",
    "You'll need Sphinx-Gallery version 0.6 or higher.\n",
    "\n",
    "<div class=\"alert alert-info\">\n",
    "\n",
    "Note\n",
    "\n",
    "Sphinx-Gallery has changed its CSS classes in version 0.11\n",
    "in an incompatible way (see [issue #655](https://github.com/spatialaudio/nbsphinx/issues/655)).\n",
    "To restore the intended look, update your dependencies\n",
    "to an older version:\n",
    "\n",
    "    sphinx-gallery<0.11\n",
    "\n",
    "</div>\n",
    "\n",
    "However, you can also create your own CSS styles if you prefer\n",
    "(then you don't need to install Sphinx-Gallery).\n",
    "You can load your CSS files with\n",
    "[html_css_files](https://www.sphinx-doc.org/en/master/usage/configuration.html#confval-html_css_files).\n",
    "\n",
    "The following sections present\n",
    "two different ways of creating thumbnail galleries\n",
    "in Jupyter notebooks\n",
    "and show how thumbnail images can be selected.\n",
    "Thumbnail galleries can also be created in\n",
    "[reStructuredText files](../a-normal-rst-file.rst#thumbnail-galleries)."
   ]
  },
  {
   "cell_type": "markdown",
   "metadata": {
    "tags": [
     "nbsphinx-toctree"
    ]
   },
   "source": [
    "* [Gallery With Nested Documents](../gallery/gallery-with-nested-documents.ipynb)\n",
    "* [Gallery With Links (HTML only)](../gallery/gallery-with-links.ipynb)"
   ]
  }
 ],
 "metadata": {
  "kernelspec": {
   "display_name": "Python 3 (ipykernel)",
   "language": "python",
   "name": "python3"
  },
  "language_info": {
   "codemirror_mode": {
    "name": "ipython",
    "version": 3
   },
   "file_extension": ".py",
   "mimetype": "text/x-python",
   "name": "python",
   "nbconvert_exporter": "python",
   "pygments_lexer": "ipython3",
   "version": "3.11.1"
  }
 },
 "nbformat": 4,
 "nbformat_minor": 4
}
