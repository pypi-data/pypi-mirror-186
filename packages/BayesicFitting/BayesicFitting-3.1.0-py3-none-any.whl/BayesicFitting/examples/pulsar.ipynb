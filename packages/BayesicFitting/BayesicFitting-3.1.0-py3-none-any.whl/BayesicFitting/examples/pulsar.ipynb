{
 "cells": [
  {
   "cell_type": "markdown",
   "metadata": {},
   "source": [
    "## Pulsars\n",
    "\n",
    "\n",
    "\n",
    "The data is taken from HTRU2, a data set which describes a sample of pulsar candidates collected during the\n",
    "High Time Resolution Universe Survey (South).\n",
    "\n",
    "Author: Rob Lyon, School of Computer Science & Jodrell Bank Centre for Astrophysics,\n",
    "                University of Manchester, Kilburn Building, Oxford Road, Manchester M13 9PL.\n",
    "\n",
    "Contact:        rob@scienceguyrob.com or robert.lyon@.manchester.ac.uk\n",
    "Web:            http://www.scienceguyrob.com or http://www.cs.manchester.ac.uk\n",
    "                        or alternatively http://www.jb.man.ac.uk\n",
    "\n",
    "\n",
    "The text below is copied from the Readme.txt file:\n",
    "\n",
    "Pulsars are a rare type of Neutron star that produce radio emission detectable here on\n",
    "Earth. They are of considerable scientific interest as probes of space-time, the inter-\n",
    "stellar medium, and states of matter.\n",
    "        \n",
    "As pulsars rotate, their emission beam sweeps across the sky, and when this crosses\n",
    "our line of sight, produces a detectable pattern of broadband radio emission. As pulsars\n",
    "rotate rapidly, this pattern repeats periodically. Thus pulsar search involves looking\n",
    "for periodic radio signals with large radio telescopes.\n",
    "        \n",
    "Each pulsar produces a slightly different emission pattern, which varies slightly with each\n",
    "rotation (see [2] for an introduction to pulsar astrophysics to find out why). Thus a \n",
    "potential signal detection known as a 'candidate', is averaged over many rotations of the\n",
    "pulsar, as determined by the length of an observation. In the absence of additional info,\n",
    "each candidate could potentially describe a real pulsar. However in practice almost all\n",
    "detections are caused by radio frequency interference (RFI) and noise, making legitimate\n",
    "signals hard to find.\n",
    "        \n",
    "Machine learning tools are now being used to automatically label pulsar candidates to\n",
    "facilitate rapid analysis. Classification systems in particular are being widely adopted,\n",
    "(see [4,5,6,7,8,9]) which treat the candidate data sets  as binary classification problems.\n",
    "Here the legitimate pulsar examples are a minority positive class, and spurious examples\n",
    "the majority negative class. At present multi-class labels are unavailable, given the\n",
    "costs associated with data annotation.\n",
    "        \n",
    "The data set shared here contains 16,259 spurious examples caused by RFI/noise, and 1,639\n",
    "real pulsar examples. These examples have all been checked by human annotators. Each\n",
    "candidate is described by 8 continuous variables. The first four are simple statistics\n",
    "obtained from the integrated pulse profile (folded profile). This is an array of continuous\n",
    "variables that describe a longitude-resolved version of the signal that has been averaged\n",
    "in both time and frequency (see [3] for more details). The remaining four variables are\n",
    "similarly obtained from the DM-SNR curve (again see [3] for more details). These are \n",
    "summarised below:\n",
    "        \n",
    "1. Mean of the integrated profile.\n",
    "2. Standard deviation of the integrated profile.\n",
    "3. Excess kurtosis of the integrated profile.\n",
    "4. Skewness of the integrated profile.\n",
    "5. Mean of the DM-SNR curve.\n",
    "6. Standard deviation of the DM-SNR curve.\n",
    "7. Excess kurtosis of the DM-SNR curve.\n",
    "8. Skewness of the DM-SNR curve.\n",
    "\n",
    "9. 0 : noise\n",
    "   1 : pulsar\n",
    "   \n",
    "Demonstration:\n",
    "1. SoftMaxModel\n",
    "2. Multiple input and output\n",
    "3. Bernoulli ErrorDistribution\n",
    "4. NestedSampler"
   ]
  },
  {
   "cell_type": "code",
   "execution_count": 1,
   "metadata": {
    "execution": {
     "iopub.execute_input": "2022-11-17T06:43:01.586549Z",
     "iopub.status.busy": "2022-11-17T06:43:01.585811Z",
     "iopub.status.idle": "2022-11-17T06:43:02.351111Z",
     "shell.execute_reply": "2022-11-17T06:43:02.351265Z"
    }
   },
   "outputs": [],
   "source": [
    "import numpy as numpy\n",
    "import math\n",
    "\n",
    "from astropy.io import ascii\n",
    "from BayesicFitting import SoftMaxModel\n",
    "from BayesicFitting import BernoulliErrorDistribution\n",
    "from BayesicFitting import LaplacePrior\n",
    "from BayesicFitting import CauchyPrior\n",
    "\n",
    "from BayesicFitting import ClassicProblem\n",
    "from BayesicFitting import MultipleOutputProblem\n",
    "from BayesicFitting import NestedSampler\n",
    "from BayesicFitting import formatter as fmt\n",
    "from BayesicFitting import plotFit\n",
    "from BayesicFitting import Tools\n",
    "import matplotlib.pyplot as plt\n",
    "\n"
   ]
  },
  {
   "cell_type": "code",
   "execution_count": 2,
   "metadata": {
    "execution": {
     "iopub.execute_input": "2022-11-17T06:43:02.352897Z",
     "iopub.status.busy": "2022-11-17T06:43:02.352631Z",
     "iopub.status.idle": "2022-11-17T06:43:02.353992Z",
     "shell.execute_reply": "2022-11-17T06:43:02.354147Z"
    }
   },
   "outputs": [],
   "source": [
    "#%matplotlib osx"
   ]
  },
  {
   "cell_type": "code",
   "execution_count": 3,
   "metadata": {
    "execution": {
     "iopub.execute_input": "2022-11-17T06:43:02.355900Z",
     "iopub.status.busy": "2022-11-17T06:43:02.355632Z",
     "iopub.status.idle": "2022-11-17T06:43:02.592840Z",
     "shell.execute_reply": "2022-11-17T06:43:02.592992Z"
    }
   },
   "outputs": [],
   "source": [
    "tbl = ascii.read( \"data/HTRU.csv\" )\n"
   ]
  },
  {
   "cell_type": "code",
   "execution_count": 4,
   "metadata": {
    "execution": {
     "iopub.execute_input": "2022-11-17T06:43:02.595142Z",
     "iopub.status.busy": "2022-11-17T06:43:02.594832Z",
     "iopub.status.idle": "2022-11-17T06:43:02.596583Z",
     "shell.execute_reply": "2022-11-17T06:43:02.596746Z"
    }
   },
   "outputs": [
    {
     "name": "stdout",
     "output_type": "stream",
     "text": [
      "[[  140.562  102.508  103.016  136.750   88.727 ...  119.336  114.508   57.062]\n",
      " [   55.684   58.882   39.342   57.178   40.672 ...   59.936   53.902   85.797]\n",
      " [   -0.235    0.465    0.323   -0.068    0.601 ...    0.159    0.201    1.406]\n",
      " [   -0.700   -0.515    1.051   -0.636    1.123 ...   -0.743   -0.025    0.090]\n",
      " [    3.200    1.677    3.121    3.643    1.179 ...   21.431    1.946  188.306]\n",
      " [   19.110   14.860   21.745   20.959   11.469 ...   58.872   13.382   64.713]\n",
      " [    7.976   10.576    7.736    6.896   14.270 ...    2.500   10.008   -1.598]\n",
      " [   74.242  127.394   63.172   53.594  252.567 ...    4.595  134.239    1.429]]\n"
     ]
    }
   ],
   "source": [
    "xall = numpy.zeros( (8,17898), dtype=float )\n",
    "for k in range( 8 ) :\n",
    "    key = 'col%d' % (k+1)\n",
    "    xall[k,:] = tbl[key].data\n",
    "\n",
    "y = tbl[\"col9\"].data\n",
    "\n",
    "print( fmt( xall, tail=3 ) )\n",
    "\n",
    "#w = numpy.ones_like( y )\n",
    "#wgt = numpy.where( y == 0, w, 10 * w )"
   ]
  },
  {
   "cell_type": "markdown",
   "metadata": {},
   "source": [
    "Rescale the data"
   ]
  },
  {
   "cell_type": "code",
   "execution_count": 5,
   "metadata": {
    "execution": {
     "iopub.execute_input": "2022-11-17T06:43:02.598670Z",
     "iopub.status.busy": "2022-11-17T06:43:02.598399Z",
     "iopub.status.idle": "2022-11-17T06:43:02.599964Z",
     "shell.execute_reply": "2022-11-17T06:43:02.600128Z"
    }
   },
   "outputs": [
    {
     "name": "stdout",
     "output_type": "stream",
     "text": [
      "[  111.080   46.550    0.478    1.770   12.614   26.327    8.304  104.858]\n",
      "[[    1.406    5.568   -0.235   -0.700    0.320    1.911    7.976    7.424]\n",
      " [    1.025    5.888    0.465   -0.515    0.168    1.486   10.576   12.739]\n",
      " [    1.030    3.934    0.323    1.051    0.312    2.174    7.736    6.317]\n",
      " [    1.367    5.718   -0.068   -0.636    0.364    2.096    6.896    5.359]\n",
      " [    0.887    4.067    0.601    1.123    0.118    1.147   14.270   25.257]\n",
      "  ...\n",
      " [    1.193    5.994    0.159   -0.743    2.143    5.887    2.500    0.460]\n",
      " [    1.145    5.390    0.201   -0.025    0.195    1.338   10.008   13.424]\n",
      " [    0.571    8.580    1.406    0.090   18.831    6.471   -1.598    0.143]]\n"
     ]
    }
   ],
   "source": [
    "xdata = xall.T\n",
    "xm = numpy.mean( xdata, 0 )\n",
    "print( fmt( xm, max=None ) )\n",
    "\n",
    "xmm = [100, 10, 1, 1, 10, 10, 1, 10]\n",
    "xdat = xdata / xmm\n",
    "print( fmt( xdat, tail=3 ) )\n"
   ]
  },
  {
   "cell_type": "markdown",
   "metadata": {},
   "source": [
    "Start a SoftMaxModel (logistic) with 8 inputs and 2 outputs"
   ]
  },
  {
   "cell_type": "code",
   "execution_count": 6,
   "metadata": {
    "execution": {
     "iopub.execute_input": "2022-11-17T06:43:02.602114Z",
     "iopub.status.busy": "2022-11-17T06:43:02.601854Z",
     "iopub.status.idle": "2022-11-17T06:43:02.603190Z",
     "shell.execute_reply": "2022-11-17T06:43:02.603325Z"
    }
   },
   "outputs": [],
   "source": [
    "mdl = SoftMaxModel( ndim=8, ndout=2, offset=True )\n",
    "mdl.setPrior( 0, CauchyPrior( ) )\n",
    "\n",
    "#Tools.printclass( mdl )\n",
    "\n",
    "problem = ClassicProblem( model=mdl, xdata=xdat, ydata=y )    #, weights=wgt )"
   ]
  },
  {
   "cell_type": "markdown",
   "metadata": {},
   "source": [
    "Use NestedSampler with a BernoulliErrdorDistribution, for categorials"
   ]
  },
  {
   "cell_type": "code",
   "execution_count": 7,
   "metadata": {
    "execution": {
     "iopub.execute_input": "2022-11-17T06:43:02.616277Z",
     "iopub.status.busy": "2022-11-17T06:43:02.614849Z",
     "iopub.status.idle": "2022-11-17T14:42:20.423751Z",
     "shell.execute_reply": "2022-11-17T14:42:20.422768Z"
    }
   },
   "outputs": [
    {
     "name": "stdout",
     "output_type": "stream",
     "text": [
      "Fit all parameters of\n",
      "  SoftMax: f_n( x:p ) = exp( sum_i( x_i * p_in ) + q_n)/ sum_n )\n",
      "Using a Bernoulli error distribution\n",
      "Moving the walkers with   GalileanEngine  ChordEngine\n",
      "Iteration     logZ        H       LowL     npar parameters\n",
      "       0  -2.81e+06 941097.6  -1.87e+06     18  [   -0.161  -29.288   -0.643    0.866 ...]\n"
     ]
    },
    {
     "name": "stderr",
     "output_type": "stream",
     "text": [
      "/opt/local/Library/Frameworks/Python.framework/Versions/3.8/lib/python3.8/site-packages/BayesicFitting/source/NeuralNetUtilities.py:287: RuntimeWarning: overflow encountered in exp\n",
      "  res = numpy.exp( xdata )\n",
      "/opt/local/Library/Frameworks/Python.framework/Versions/3.8/lib/python3.8/site-packages/BayesicFitting/source/NeuralNetUtilities.py:289: RuntimeWarning: invalid value encountered in true_divide\n",
      "  return ( res.T / sum ).T\n",
      "/opt/local/Library/Frameworks/Python.framework/Versions/3.8/lib/python3.8/site-packages/BayesicFitting/source/BernoulliErrorDistribution.py:156: RuntimeWarning: divide by zero encountered in log\n",
      "  return numpy.log( lld )\n"
     ]
    },
    {
     "name": "stderr",
     "output_type": "stream",
     "text": [
      "/opt/local/Library/Frameworks/Python.framework/Versions/3.8/lib/python3.8/site-packages/BayesicFitting/source/NeuralNetUtilities.py:296: RuntimeWarning: overflow encountered in multiply\n",
      "  n2 = norm * norm\n",
      "/opt/local/Library/Frameworks/Python.framework/Versions/3.8/lib/python3.8/site-packages/BayesicFitting/source/NeuralNetUtilities.py:303: RuntimeWarning: overflow encountered in multiply\n",
      "  dfdx[k,:,n] = - ( f[:,k] * f[:,n] / n2 )\n",
      "/opt/local/Library/Frameworks/Python.framework/Versions/3.8/lib/python3.8/site-packages/BayesicFitting/source/NeuralNetUtilities.py:303: RuntimeWarning: invalid value encountered in true_divide\n",
      "  dfdx[k,:,n] = - ( f[:,k] * f[:,n] / n2 )\n"
     ]
    },
    {
     "name": "stderr",
     "output_type": "stream",
     "text": [
      "/opt/local/Library/Frameworks/Python.framework/Versions/3.8/lib/python3.8/site-packages/BayesicFitting/source/NeuralNetUtilities.py:304: RuntimeWarning: overflow encountered in multiply\n",
      "  dfdx[n,:,n] = ( ( norm - f[:,n]  ) * f[:,n] / n2 ).T\n",
      "/opt/local/Library/Frameworks/Python.framework/Versions/3.8/lib/python3.8/site-packages/BayesicFitting/source/NeuralNetUtilities.py:304: RuntimeWarning: invalid value encountered in true_divide\n",
      "  dfdx[n,:,n] = ( ( norm - f[:,n]  ) * f[:,n] / n2 ).T\n"
     ]
    },
    {
     "name": "stderr",
     "output_type": "stream",
     "text": [
      "/opt/local/Library/Frameworks/Python.framework/Versions/3.8/lib/python3.8/site-packages/BayesicFitting/source/BernoulliErrorDistribution.py:223: RuntimeWarning: overflow encountered in true_divide\n",
      "  dLdM[q,k] = 1.0 / mock[q,k]\n",
      "/opt/local/Library/Frameworks/Python.framework/Versions/3.8/lib/python3.8/site-packages/numpy/core/fromnumeric.py:86: RuntimeWarning: invalid value encountered in reduce\n",
      "  return ufunc.reduce(obj, axis, dtype, out, **passkwargs)\n"
     ]
    },
    {
     "name": "stdout",
     "output_type": "stream",
     "text": [
      "     100  -1.37e+05   2100.3  -1.35e+05     18  [    0.103   -4.396   -7.522   -0.460 ...]\n"
     ]
    },
    {
     "name": "stdout",
     "output_type": "stream",
     "text": [
      "     200  -4.87e+04    300.3  -4.84e+04     18  [   -0.049   23.267   -0.314   -3.641 ...]\n"
     ]
    },
    {
     "name": "stdout",
     "output_type": "stream",
     "text": [
      "     300  -2.21e+04    120.2  -2.20e+04     18  [   -3.498   -3.142    0.037    1.326 ...]\n"
     ]
    },
    {
     "name": "stdout",
     "output_type": "stream",
     "text": [
      "     400  -1.30e+04    130.8  -1.28e+04     18  [    0.114    3.132  -16.927   -2.099 ...]\n"
     ]
    },
    {
     "name": "stdout",
     "output_type": "stream",
     "text": [
      "     500  -8.64e+03     52.8  -8.59e+03     18  [    2.141    3.289   -9.647   -1.005 ...]\n"
     ]
    },
    {
     "name": "stdout",
     "output_type": "stream",
     "text": [
      "     600  -6.18e+03     45.8  -6.13e+03     18  [    0.663   -1.003   -0.244   -0.216 ...]\n"
     ]
    },
    {
     "name": "stdout",
     "output_type": "stream",
     "text": [
      "     700  -4.88e+03     20.1  -4.85e+03     18  [   -0.228    3.724   -0.906    0.106 ...]\n"
     ]
    },
    {
     "name": "stdout",
     "output_type": "stream",
     "text": [
      "     800  -4.04e+03     23.7  -4.02e+03     18  [   -4.048    0.404   -0.337    0.182 ...]\n"
     ]
    },
    {
     "name": "stdout",
     "output_type": "stream",
     "text": [
      "     900  -3.36e+03     36.7  -3.33e+03     18  [   -0.917   -0.648   -0.535    0.985 ...]\n"
     ]
    },
    {
     "name": "stdout",
     "output_type": "stream",
     "text": [
      "    1000  -2.82e+03     14.5  -2.80e+03     18  [    2.117   -0.511    0.106   -0.366 ...]\n"
     ]
    },
    {
     "name": "stdout",
     "output_type": "stream",
     "text": [
      "    1100  -2.46e+03     19.9  -2.44e+03     18  [   -0.362    0.507   -0.033   -0.201 ...]\n"
     ]
    },
    {
     "name": "stdout",
     "output_type": "stream",
     "text": [
      "    1200  -2.21e+03     16.2  -2.19e+03     18  [   -0.830   -2.308    0.290   -1.158 ...]\n"
     ]
    },
    {
     "name": "stdout",
     "output_type": "stream",
     "text": [
      "    1300  -2.03e+03     19.7  -2.01e+03     18  [    0.415   -1.396    0.191   -2.020 ...]\n"
     ]
    },
    {
     "name": "stdout",
     "output_type": "stream",
     "text": [
      "    1400  -1.88e+03     18.7  -1.86e+03     18  [    0.349    0.339   -2.403   -1.621 ...]\n"
     ]
    },
    {
     "name": "stdout",
     "output_type": "stream",
     "text": [
      "    1500  -1.75e+03     20.5  -1.73e+03     18  [   -0.071    2.557   -3.144   -0.041 ...]\n"
     ]
    },
    {
     "name": "stdout",
     "output_type": "stream",
     "text": [
      "    1600  -1.65e+03     19.2  -1.63e+03     18  [   -0.121   -0.022   -0.565    1.014 ...]\n"
     ]
    },
    {
     "name": "stdout",
     "output_type": "stream",
     "text": [
      "    1700  -1.59e+03     19.9  -1.57e+03     18  [    4.044    0.826   -2.670    1.019 ...]\n"
     ]
    },
    {
     "name": "stdout",
     "output_type": "stream",
     "text": [
      "    1800  -1.55e+03     21.5  -1.53e+03     18  [   -0.536    0.622   -2.843    1.404 ...]\n"
     ]
    },
    {
     "name": "stdout",
     "output_type": "stream",
     "text": [
      "    1900  -1.51e+03     21.5  -1.49e+03     18  [    3.892    0.381   -3.428    0.837 ...]\n"
     ]
    },
    {
     "name": "stdout",
     "output_type": "stream",
     "text": [
      "    2000  -1.48e+03     22.7  -1.46e+03     18  [   -0.866    0.415   -0.361    0.143 ...]\n"
     ]
    },
    {
     "name": "stdout",
     "output_type": "stream",
     "text": [
      "    2100  -1.46e+03     23.4  -1.44e+03     18  [   -0.291    0.185   -5.642   -0.341 ...]\n"
     ]
    },
    {
     "name": "stdout",
     "output_type": "stream",
     "text": [
      "    2200  -1.44e+03     24.3  -1.41e+03     18  [   -2.742    0.397   -0.579    0.277 ...]\n"
     ]
    },
    {
     "name": "stdout",
     "output_type": "stream",
     "text": [
      "    2300  -1.42e+03     25.2  -1.40e+03     18  [   -1.671    0.427   -0.760   -0.293 ...]\n"
     ]
    },
    {
     "name": "stdout",
     "output_type": "stream",
     "text": [
      "    2400  -1.41e+03     25.9  -1.38e+03     18  [    0.438    0.335   -4.778   -0.247 ...]\n"
     ]
    },
    {
     "name": "stdout",
     "output_type": "stream",
     "text": [
      "    2500  -1.40e+03     26.7  -1.37e+03     18  [    0.218    0.233   -5.907   -0.266 ...]\n"
     ]
    },
    {
     "name": "stdout",
     "output_type": "stream",
     "text": [
      "    2600  -1.39e+03     27.2  -1.36e+03     18  [    0.350    0.383   -5.850   -0.184 ...]\n"
     ]
    },
    {
     "name": "stdout",
     "output_type": "stream",
     "text": [
      "    2700  -1.38e+03     27.8  -1.35e+03     18  [    0.359    0.442   -4.965   -0.199 ...]\n"
     ]
    },
    {
     "name": "stdout",
     "output_type": "stream",
     "text": [
      "    2800  -1.37e+03     28.7  -1.34e+03     18  [   -0.213    0.364   -0.186    0.093 ...]\n"
     ]
    },
    {
     "name": "stdout",
     "output_type": "stream",
     "text": [
      "    2900  -1.37e+03     29.7  -1.33e+03     18  [   -0.058    0.360   -0.157    0.107 ...]\n"
     ]
    },
    {
     "name": "stdout",
     "output_type": "stream",
     "text": [
      "    3000  -1.36e+03     30.1  -1.33e+03     18  [   -1.822    0.338   -1.057    0.080 ...]\n"
     ]
    },
    {
     "name": "stdout",
     "output_type": "stream",
     "text": [
      "    3100  -1.36e+03     30.8  -1.33e+03     18  [   -1.934    0.649   -0.412   -0.270 ...]\n"
     ]
    },
    {
     "name": "stdout",
     "output_type": "stream",
     "text": [
      "    3200  -1.36e+03     31.5  -1.32e+03     18  [   -0.096    0.363   -0.273    0.025 ...]\n"
     ]
    },
    {
     "name": "stdout",
     "output_type": "stream",
     "text": [
      "    3300  -1.35e+03     32.2  -1.32e+03     18  [   -1.988    0.780   -0.426    0.010 ...]\n"
     ]
    },
    {
     "name": "stdout",
     "output_type": "stream",
     "text": [
      "    3400  -1.35e+03     32.8  -1.32e+03     18  [   -1.772    0.673   -0.655    0.041 ...]\n"
     ]
    },
    {
     "name": "stdout",
     "output_type": "stream",
     "text": [
      "    3500  -1.35e+03     33.4  -1.32e+03     18  [   -0.578    0.213    0.011    0.067 ...]\n"
     ]
    },
    {
     "name": "stdout",
     "output_type": "stream",
     "text": [
      "    3600  -1.35e+03     33.9  -1.32e+03     18  [   -1.198    0.587   -0.629   -0.175 ...]\n"
     ]
    },
    {
     "name": "stdout",
     "output_type": "stream",
     "text": [
      "    3700  -1.35e+03     34.3  -1.31e+03     18  [   -1.608    0.502   -0.277   -0.115 ...]\n"
     ]
    },
    {
     "name": "stdout",
     "output_type": "stream",
     "text": [
      "    3800  -1.35e+03     34.8  -1.31e+03     18  [   -1.679    0.602   -0.456   -0.156 ...]\n"
     ]
    },
    {
     "name": "stdout",
     "output_type": "stream",
     "text": [
      "    3900  -1.35e+03     35.2  -1.31e+03     18  [   -1.876    0.623   -0.485   -0.202 ...]\n"
     ]
    },
    {
     "name": "stdout",
     "output_type": "stream",
     "text": [
      "    4000  -1.35e+03     35.5  -1.31e+03     18  [   -1.285    0.685   -0.688   -0.190 ...]\n"
     ]
    },
    {
     "name": "stdout",
     "output_type": "stream",
     "text": [
      "    4100  -1.35e+03     35.7  -1.31e+03     18  [   -1.674    0.589   -0.451   -0.129 ...]\n"
     ]
    },
    {
     "name": "stdout",
     "output_type": "stream",
     "text": [
      "    4200  -1.35e+03     35.8  -1.31e+03     18  [   -0.989    0.573   -0.691   -0.149 ...]\n"
     ]
    },
    {
     "name": "stdout",
     "output_type": "stream",
     "text": [
      "    4300  -1.35e+03     35.9  -1.31e+03     18  [   -1.249    0.553   -0.733   -0.113 ...]\n"
     ]
    },
    {
     "name": "stdout",
     "output_type": "stream",
     "text": [
      "    4400  -1.35e+03     36.0  -1.31e+03     18  [   -1.007    0.561   -0.672   -0.179 ...]\n"
     ]
    },
    {
     "name": "stdout",
     "output_type": "stream",
     "text": [
      "    4500  -1.35e+03     36.0  -1.31e+03     18  [   -1.121    0.590   -0.733   -0.137 ...]\n"
     ]
    },
    {
     "name": "stdout",
     "output_type": "stream",
     "text": [
      "    4600  -1.35e+03     36.0  -1.31e+03     18  [   -2.018    0.716   -1.055    0.231 ...]\n"
     ]
    },
    {
     "name": "stdout",
     "output_type": "stream",
     "text": [
      "    4700  -1.35e+03     36.0  -1.31e+03     18  [   -1.889    0.645   -0.495   -0.202 ...]\n"
     ]
    },
    {
     "name": "stdout",
     "output_type": "stream",
     "text": [
      "    4800  -1.35e+03     36.0  -1.31e+03     18  [   -1.883    0.642   -0.468   -0.220 ...]\n"
     ]
    },
    {
     "name": "stdout",
     "output_type": "stream",
     "text": [
      "    4900  -1.35e+03     36.0  -1.31e+03     18  [   -2.004    0.719   -0.970    0.213 ...]\n"
     ]
    },
    {
     "name": "stdout",
     "output_type": "stream",
     "text": [
      "    5000  -1.35e+03     36.0  -1.31e+03     18  [   -1.987    0.681   -1.065    0.168 ...]\n"
     ]
    },
    {
     "name": "stdout",
     "output_type": "stream",
     "text": [
      "    5100  -1.35e+03     36.0  -1.31e+03     18  [   -1.947    0.640   -0.517   -0.148 ...]\n"
     ]
    },
    {
     "name": "stdout",
     "output_type": "stream",
     "text": [
      "    5200  -1.35e+03     36.0  -1.31e+03     18  [   -2.031    0.697   -1.032    0.172 ...]\n"
     ]
    },
    {
     "name": "stdout",
     "output_type": "stream",
     "text": [
      "    5300  -1.35e+03     36.0  -1.31e+03     18  [   -2.060    0.730   -1.054    0.223 ...]\n"
     ]
    },
    {
     "name": "stdout",
     "output_type": "stream",
     "text": [
      "    5400  -1.35e+03     36.0  -1.31e+03     18  [   -1.902    0.703   -1.072    0.167 ...]\n"
     ]
    },
    {
     "name": "stdout",
     "output_type": "stream",
     "text": [
      "    5500  -1.35e+03     36.0  -1.31e+03     18  [   -2.057    0.723   -1.080    0.216 ...]\n"
     ]
    },
    {
     "name": "stdout",
     "output_type": "stream",
     "text": [
      "    5600  -1.35e+03     36.0  -1.31e+03     18  [   -1.984    0.719   -1.024    0.193 ...]\n"
     ]
    },
    {
     "name": "stdout",
     "output_type": "stream",
     "text": [
      "    5700  -1.35e+03     36.0  -1.31e+03     18  [   -2.105    0.727   -0.988    0.196 ...]\n"
     ]
    },
    {
     "name": "stdout",
     "output_type": "stream",
     "text": [
      "    5800  -1.35e+03     36.0  -1.31e+03     18  [   -1.982    0.716   -1.049    0.211 ...]\n"
     ]
    },
    {
     "name": "stdout",
     "output_type": "stream",
     "text": [
      "    5900  -1.35e+03     36.0  -1.31e+03     18  [   -2.152    0.714   -0.967    0.198 ...]\n"
     ]
    },
    {
     "name": "stdout",
     "output_type": "stream",
     "text": [
      "    6000  -1.35e+03     36.0  -1.31e+03     18  [   -2.145    0.715   -0.967    0.199 ...]\n"
     ]
    },
    {
     "name": "stdout",
     "output_type": "stream",
     "text": [
      "    6100  -1.35e+03     36.0  -1.31e+03     18  [   -2.081    0.724   -1.065    0.226 ...]\n"
     ]
    },
    {
     "name": "stdout",
     "output_type": "stream",
     "text": [
      "    6200  -1.35e+03     36.0  -1.31e+03     18  [   -2.148    0.728   -1.091    0.231 ...]\n"
     ]
    },
    {
     "name": "stdout",
     "output_type": "stream",
     "text": [
      "    6300  -1.35e+03     36.0  -1.31e+03     18  [   -2.098    0.718   -1.071    0.220 ...]\n"
     ]
    },
    {
     "name": "stdout",
     "output_type": "stream",
     "text": [
      "    6400  -1.35e+03     36.0  -1.31e+03     18  [   -2.070    0.726   -1.072    0.235 ...]\n"
     ]
    },
    {
     "name": "stdout",
     "output_type": "stream",
     "text": [
      "    6500  -1.35e+03     36.0  -1.31e+03     18  [   -2.074    0.726   -1.072    0.230 ...]\n"
     ]
    },
    {
     "name": "stdout",
     "output_type": "stream",
     "text": [
      "    6600  -1.35e+03     36.0  -1.31e+03     18  [   -2.117    0.727   -0.989    0.198 ...]\n"
     ]
    },
    {
     "name": "stdout",
     "output_type": "stream",
     "text": [
      "    6700  -1.35e+03     36.0  -1.31e+03     18  [   -2.069    0.722   -1.058    0.198 ...]\n"
     ]
    },
    {
     "name": "stdout",
     "output_type": "stream",
     "text": [
      "    6800  -1.35e+03     36.0  -1.31e+03     18  [   -2.149    0.723   -1.043    0.230 ...]\n"
     ]
    },
    {
     "name": "stdout",
     "output_type": "stream",
     "text": [
      "    6900  -1.35e+03     36.0  -1.31e+03     18  [   -2.142    0.721   -1.052    0.226 ...]\n"
     ]
    },
    {
     "name": "stdout",
     "output_type": "stream",
     "text": [
      "    7000  -1.35e+03     36.0  -1.31e+03     18  [   -2.035    0.721   -1.052    0.231 ...]\n"
     ]
    },
    {
     "name": "stdout",
     "output_type": "stream",
     "text": [
      "    7100  -1.35e+03     36.0  -1.31e+03     18  [   -2.131    0.719   -1.097    0.225 ...]\n"
     ]
    },
    {
     "name": "stdout",
     "output_type": "stream",
     "text": [
      "    7200  -1.35e+03     36.0  -1.31e+03     18  [   -2.132    0.719   -1.104    0.225 ...]\n"
     ]
    },
    {
     "name": "stdout",
     "output_type": "stream",
     "text": [
      "    7201  -1.35e+03     36.0  -1.31e+03     18 \n",
      "[   -2.114    0.718   -1.057    0.221    0.147   -0.697    0.607   -0.650    0.916    0.362    5.517   -0.395   -0.139\n",
      "    -0.167    0.653   -0.697    2.756   -6.245]\n",
      "Engines              success     reject     failed       best      calls\n",
      "GalileanEngine         39021      28876      51850          0      11915\n",
      "ChordEngine            83105     427306          0          0      11915\n",
      "Calls to LogL         630158   to dLogL      28876\n",
      "Samples        7301\n",
      "Evidence      -585.920 +-      0.261\n"
     ]
    }
   ],
   "source": [
    "ns = NestedSampler( problem=problem, distribution=\"bernoulli\", verbose=2 )\n",
    "\n",
    "loge = ns.sample()"
   ]
  },
  {
   "cell_type": "code",
   "execution_count": 8,
   "metadata": {
    "execution": {
     "iopub.execute_input": "2022-11-17T14:42:20.434503Z",
     "iopub.status.busy": "2022-11-17T14:42:20.432598Z",
     "iopub.status.idle": "2022-11-17T14:42:20.438586Z",
     "shell.execute_reply": "2022-11-17T14:42:20.438117Z"
    }
   },
   "outputs": [
    {
     "name": "stdout",
     "output_type": "stream",
     "text": [
      "(17898, 2)\n"
     ]
    }
   ],
   "source": [
    "sl = ns.samples\n",
    "pars = sl[-1].parameters\n",
    "yfit = mdl.result( xdat, pars )\n",
    "print( yfit.shape )\n",
    "yfit = yfit[:,1]"
   ]
  },
  {
   "cell_type": "markdown",
   "metadata": {},
   "source": [
    "As there are only 2 outputs yfit1 is the reverse of yfit2 (= 1 - yfit1 )"
   ]
  },
  {
   "cell_type": "code",
   "execution_count": 9,
   "metadata": {
    "execution": {
     "iopub.execute_input": "2022-11-17T14:42:20.447337Z",
     "iopub.status.busy": "2022-11-17T14:42:20.446478Z",
     "iopub.status.idle": "2022-11-17T14:42:20.563772Z",
     "shell.execute_reply": "2022-11-17T14:42:20.563232Z"
    }
   },
   "outputs": [
    {
     "name": "stdout",
     "output_type": "stream",
     "text": [
      "[12186 14049 13504 ...  4422   537  9937]\n"
     ]
    },
    {
     "data": {
      "image/png": "[encoded data removed]",
      "text/plain": [
       "<Figure size 864x576 with 1 Axes>"
      ]
     },
     "metadata": {
      "needs_background": "light"
     },
     "output_type": "display_data"
    }
   ],
   "source": [
    "\n",
    "#yfit = ns.yfit\n",
    "kst = numpy.argsort( yfit )\n",
    "yf = yfit[kst]\n",
    "yy = y[kst]\n",
    "\n",
    "print( kst )\n",
    "q = numpy.where( ( yy == 0 ) & ( yf > 0.6 ) )\n",
    "\n",
    "xx = numpy.arange( len( y ) )\n",
    "plt.figure( 1, figsize=[12,8] )\n",
    "col = ['k.','r.','g.','b.','c.','m.','y.'] \n",
    "plt.plot( xx, yf, 'g-' )\n",
    "plt.plot( xx, yy, 'k,')\n",
    "plt.plot( q[0], yy[q], 'r,' )\n",
    "plt.plot( q[0], yf[q], 'r.' )\n",
    "plt.show()\n"
   ]
  },
  {
   "cell_type": "markdown",
   "metadata": {},
   "source": [
    "The separation between pulsars and noise is not perfect, based on the data at hand.\n",
    "\n",
    "One might surmise that the red dots might be pulsars too, in stead of noise. "
   ]
  }
 ],
 "metadata": {
  "kernelspec": {
   "display_name": "Python 3 (ipykernel)",
   "language": "python",
   "name": "python3"
  },
  "language_info": {
   "codemirror_mode": {
    "name": "ipython",
    "version": 3
   },
   "file_extension": ".py",
   "mimetype": "text/x-python",
   "name": "python",
   "nbconvert_exporter": "python",
   "pygments_lexer": "ipython3",
   "version": "3.8.12"
  }
 },
 "nbformat": 4,
 "nbformat_minor": 2
}
