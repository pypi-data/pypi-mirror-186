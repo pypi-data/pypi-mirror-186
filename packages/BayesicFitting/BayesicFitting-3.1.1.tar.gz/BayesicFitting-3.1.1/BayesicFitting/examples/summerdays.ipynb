{
 "cells": [
  {
   "cell_type": "markdown",
   "metadata": {},
   "source": [
    "## Summer days\n",
    "\n",
    "The datafile contains the number of summer days (> 25 C) measured in de Bilt in the Netherlands.\n",
    "\n",
    "\n",
    "Demonstration: \n",
    "1. Linear Model\n",
    "2. Parameter fit, using a poisson likelihood\n",
    "3. PowellFitter (from ScipyFitter)\n",
    "4. Histogram of residuals is not a Poisson distribution\n",
    "\n",
    "Author: Do Kester\n"
   ]
  },
  {
   "cell_type": "markdown",
   "metadata": {},
   "source": [
    "import classes"
   ]
  },
  {
   "cell_type": "code",
   "execution_count": 1,
   "metadata": {
    "execution": {
     "iopub.execute_input": "2022-11-17T16:28:09.611558Z",
     "iopub.status.busy": "2022-11-17T16:28:09.610888Z",
     "iopub.status.idle": "2022-11-17T16:28:10.373500Z",
     "shell.execute_reply": "2022-11-17T16:28:10.373655Z"
    }
   },
   "outputs": [],
   "source": [
    "import numpy as numpy\n",
    "import math\n",
    "\n",
    "from astropy.io import ascii\n",
    "from BayesicFitting import PolynomialModel\n",
    "\n",
    "from BayesicFitting import AmoebaFitter\n",
    "from BayesicFitting import PowellFitter\n",
    "from BayesicFitting import PoissonErrorDistribution\n",
    "from BayesicFitting import formatter as fmt\n",
    "from BayesicFitting import plotFit\n",
    "import matplotlib.pyplot as plt\n",
    "\n"
   ]
  },
  {
   "cell_type": "markdown",
   "metadata": {},
   "source": [
    "Read the data\n"
   ]
  },
  {
   "cell_type": "code",
   "execution_count": 2,
   "metadata": {
    "execution": {
     "iopub.execute_input": "2022-11-17T16:28:10.375810Z",
     "iopub.status.busy": "2022-11-17T16:28:10.375543Z",
     "iopub.status.idle": "2022-11-17T16:28:10.382098Z",
     "shell.execute_reply": "2022-11-17T16:28:10.381855Z"
    }
   },
   "outputs": [],
   "source": [
    "tbl = ascii.read( \"data/zomerdagen.csv\" )\n",
    "year = tbl['col1'].data\n",
    "nsd = tbl['col2'].data\n"
   ]
  },
  {
   "cell_type": "markdown",
   "metadata": {},
   "source": [
    "Define the model"
   ]
  },
  {
   "cell_type": "code",
   "execution_count": 3,
   "metadata": {
    "execution": {
     "iopub.execute_input": "2022-11-17T16:28:10.383857Z",
     "iopub.status.busy": "2022-11-17T16:28:10.383566Z",
     "iopub.status.idle": "2022-11-17T16:28:10.384887Z",
     "shell.execute_reply": "2022-11-17T16:28:10.385047Z"
    }
   },
   "outputs": [
    {
     "name": "stdout",
     "output_type": "stream",
     "text": [
      "Polynomial: f( x:p ) = p_0\n"
     ]
    }
   ],
   "source": [
    "mdl = PolynomialModel( 0 )\n",
    "mdl.parameters = [0.5]            ## starting parameter; > 0\n",
    "print( mdl )\n"
   ]
  },
  {
   "cell_type": "markdown",
   "metadata": {},
   "source": [
    "define the fitter: Fitter"
   ]
  },
  {
   "cell_type": "code",
   "execution_count": 4,
   "metadata": {
    "execution": {
     "iopub.execute_input": "2022-11-17T16:28:10.388972Z",
     "iopub.status.busy": "2022-11-17T16:28:10.388685Z",
     "iopub.status.idle": "2022-11-17T16:28:10.389795Z",
     "shell.execute_reply": "2022-11-17T16:28:10.389962Z"
    }
   },
   "outputs": [
    {
     "name": "stdout",
     "output_type": "stream",
     "text": [
      "POWELL\n",
      "   direc: array([[ 0.027]])\n",
      "     fun: 507.6567325563951\n",
      " message: 'Optimization terminated successfully.'\n",
      "    nfev: 42\n",
      "     nit: 2\n",
      "  status: 0\n",
      " success: True\n",
      "       x: array([ 20.262])\n"
     ]
    }
   ],
   "source": [
    "errdis = PoissonErrorDistribution( )\n",
    "fitter = PowellFitter( year, mdl, errdis=\"poisson\" )\n",
    " \n",
    "# find the parameters\n",
    "param = fitter.fit( nsd )\n",
    "\n",
    "  "
   ]
  },
  {
   "cell_type": "code",
   "execution_count": 5,
   "metadata": {
    "execution": {
     "iopub.execute_input": "2022-11-17T16:28:10.392029Z",
     "iopub.status.busy": "2022-11-17T16:28:10.391562Z",
     "iopub.status.idle": "2022-11-17T16:28:10.393220Z",
     "shell.execute_reply": "2022-11-17T16:28:10.393389Z"
    },
    "scrolled": true
   },
   "outputs": [
    {
     "name": "stdout",
     "output_type": "stream",
     "text": [
      "Parameters :    20.262\n",
      "StDevs     :     1.035\n",
      "Scale      :    10.507\n",
      "Evidence   :  -223.381\n"
     ]
    }
   ],
   "source": [
    "print( \"Parameters :\", fmt( param, max=None ) )\n",
    "print( \"StDevs     :\", fmt( fitter.stdevs, max=None ) )\n",
    "print( \"Scale      :\", fmt( fitter.scale ) )\n",
    "print( \"Evidence   :\", fmt( fitter.getEvidence( limits=[-100,100] ) ) )\n",
    "\n"
   ]
  },
  {
   "cell_type": "code",
   "execution_count": 6,
   "metadata": {
    "execution": {
     "iopub.execute_input": "2022-11-17T16:28:10.409932Z",
     "iopub.status.busy": "2022-11-17T16:28:10.409645Z",
     "iopub.status.idle": "2022-11-17T16:28:10.458678Z",
     "shell.execute_reply": "2022-11-17T16:28:10.458913Z"
    }
   },
   "outputs": [
    {
     "data": {
      "image/png": "[encoded data removed]",
      "text/plain": [
       "<Figure size 504x360 with 2 Axes>"
      ]
     },
     "metadata": {
      "needs_background": "light"
     },
     "output_type": "display_data"
    }
   ],
   "source": [
    "plotFit( year, nsd, model=mdl, fitter=fitter, residuals=True )\n"
   ]
  },
  {
   "cell_type": "markdown",
   "metadata": {},
   "source": [
    "Exercise:\n",
    "Assert for yourself that higher order polynomials do not fit any better that order 0.\n",
    "\n"
   ]
  },
  {
   "cell_type": "code",
   "execution_count": 7,
   "metadata": {
    "execution": {
     "iopub.execute_input": "2022-11-17T16:28:10.477178Z",
     "iopub.status.busy": "2022-11-17T16:28:10.476345Z",
     "iopub.status.idle": "2022-11-17T16:28:10.503876Z",
     "shell.execute_reply": "2022-11-17T16:28:10.504047Z"
    }
   },
   "outputs": [
    {
     "data": {
      "image/png": "[encoded data removed]",
      "text/plain": [
       "<Figure size 432x288 with 1 Axes>"
      ]
     },
     "metadata": {
      "needs_background": "light"
     },
     "output_type": "display_data"
    }
   ],
   "source": [
    "from BayesicFitting import logFactorial\n",
    "\n",
    "x = numpy.linspace( 0, 60, 61, dtype=float )\n",
    "plt.hist( nsd, 15, (0,60))\n",
    "p = param[0]\n",
    "y = numpy.exp( x * math.log( p ) - p - logFactorial( x ) )\n",
    "y *= 25 / numpy.max( y )\n",
    "plt.plot( x, y, 'r-' )\n",
    "plt.show()\n"
   ]
  },
  {
   "cell_type": "markdown",
   "metadata": {},
   "source": [
    "The figure above shows a histogram of the measurements, overplot with a poisson distribution with an average of 20.3. It shows that even though we could not find a better model, there is more to the data than a simple poisson draw from a constant average number of summer days.\n"
   ]
  }
 ],
 "metadata": {
  "anaconda-cloud": {},
  "kernelspec": {
   "display_name": "Python 3 (ipykernel)",
   "language": "python",
   "name": "python3"
  },
  "language_info": {
   "codemirror_mode": {
    "name": "ipython",
    "version": 3
   },
   "file_extension": ".py",
   "mimetype": "text/x-python",
   "name": "python",
   "nbconvert_exporter": "python",
   "pygments_lexer": "ipython3",
   "version": "3.8.12"
  }
 },
 "nbformat": 4,
 "nbformat_minor": 1
}
