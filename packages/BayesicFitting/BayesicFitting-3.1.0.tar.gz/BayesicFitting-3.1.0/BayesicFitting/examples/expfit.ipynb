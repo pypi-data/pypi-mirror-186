{
 "cells": [
  {
   "cell_type": "markdown",
   "metadata": {},
   "source": [
    "## Exponential decay process \n",
    "\n",
    "Demonstration: \n",
    "1. Counting data from a exponentially decaying process\n",
    "2. Exponential model\n",
    "3. Maximum likelihood \n",
    "4. Poisson error distribution.\n",
    "5. AmoebaFitter with several other error distributions.\n",
    "\n",
    "Author: Do Kester\n"
   ]
  },
  {
   "cell_type": "markdown",
   "metadata": {},
   "source": [
    "import classes"
   ]
  },
  {
   "cell_type": "code",
   "execution_count": 1,
   "metadata": {
    "execution": {
     "iopub.execute_input": "2022-11-17T04:49:52.971000Z",
     "iopub.status.busy": "2022-11-17T04:49:52.964148Z",
     "iopub.status.idle": "2022-11-17T04:49:53.707041Z",
     "shell.execute_reply": "2022-11-17T04:49:53.707219Z"
    }
   },
   "outputs": [],
   "source": [
    "import numpy as numpy\n",
    "import math\n",
    "\n",
    "from BayesicFitting import ExpModel\n",
    "from BayesicFitting import PolynomialModel\n",
    "from BayesicFitting import PoissonErrorDistribution\n",
    "from BayesicFitting import AmoebaFitter\n",
    "from BayesicFitting import formatter as fmt\n",
    "from BayesicFitting import plotFit\n",
    "from BayesicFitting import printclass\n",
    "import matplotlib.pyplot as plt\n"
   ]
  },
  {
   "cell_type": "markdown",
   "metadata": {},
   "source": [
    "define some constants"
   ]
  },
  {
   "cell_type": "code",
   "execution_count": 2,
   "metadata": {
    "execution": {
     "iopub.execute_input": "2022-11-17T04:49:53.709005Z",
     "iopub.status.busy": "2022-11-17T04:49:53.708729Z",
     "iopub.status.idle": "2022-11-17T04:49:53.710167Z",
     "shell.execute_reply": "2022-11-17T04:49:53.710333Z"
    }
   },
   "outputs": [],
   "source": [
    "N = 201\n",
    "a = 17.8\n",
    "b = -0.2"
   ]
  },
  {
   "cell_type": "markdown",
   "metadata": {},
   "source": [
    "make a 3-degree polynomial"
   ]
  },
  {
   "cell_type": "code",
   "execution_count": 3,
   "metadata": {
    "execution": {
     "iopub.execute_input": "2022-11-17T04:49:53.717822Z",
     "iopub.status.busy": "2022-11-17T04:49:53.717557Z",
     "iopub.status.idle": "2022-11-17T04:49:53.760219Z",
     "shell.execute_reply": "2022-11-17T04:49:53.760398Z"
    }
   },
   "outputs": [
    {
     "data": {
      "image/png": "[encoded data removed]",
      "text/plain": [
       "<Figure size 504x360 with 1 Axes>"
      ]
     },
     "metadata": {
      "needs_background": "light"
     },
     "output_type": "display_data"
    }
   ],
   "source": [
    "x = numpy.linspace( 0.0, 20.0, N, dtype=float )\n",
    "ym = a * numpy.exp( b * x )\n",
    "\n",
    "numpy.random.seed( 3456 )\n",
    "#y = ym + numpy.random.lognormal( ym, numpy.sqrt( ym ), N )\n",
    "#y = numpy.asarray( y, dtype=int )\n",
    "y = numpy.random.poisson( ym )\n",
    "# plot the data along with the \"truth\"\n",
    "plotFit( x, y, show=False )\n",
    "plt.plot( x, ym, 'b+')\n",
    "plt.show()"
   ]
  },
  {
   "cell_type": "markdown",
   "metadata": {},
   "source": [
    "Define the model"
   ]
  },
  {
   "cell_type": "code",
   "execution_count": 4,
   "metadata": {
    "execution": {
     "iopub.execute_input": "2022-11-17T04:49:53.762177Z",
     "iopub.status.busy": "2022-11-17T04:49:53.761897Z",
     "iopub.status.idle": "2022-11-17T04:49:53.763290Z",
     "shell.execute_reply": "2022-11-17T04:49:53.763512Z"
    }
   },
   "outputs": [
    {
     "name": "stdout",
     "output_type": "stream",
     "text": [
      "Exp: f( x:p ) = p_0 * exp( p_1 * x )\n"
     ]
    }
   ],
   "source": [
    "mdl = ExpModel( )\n",
    "print( mdl )\n"
   ]
  },
  {
   "cell_type": "markdown",
   "metadata": {},
   "source": [
    "define the fitter: AmoebaFitter with error distribution"
   ]
  },
  {
   "cell_type": "code",
   "execution_count": 5,
   "metadata": {
    "execution": {
     "iopub.execute_input": "2022-11-17T04:49:53.768607Z",
     "iopub.status.busy": "2022-11-17T04:49:53.768309Z",
     "iopub.status.idle": "2022-11-17T04:49:53.770673Z",
     "shell.execute_reply": "2022-11-17T04:49:53.770906Z"
    }
   },
   "outputs": [
    {
     "name": "stdout",
     "output_type": "stream",
     "text": [
      "+++++++++++++++++++++++++++++++++++++++++++++++++++++++\n",
      "AmoebaFitter\n",
      "+++++++++++++++++++++++++++++++++++++++++++++++++++++++\n",
      "chisq           702.0609092696214\n",
      "errdis          poisson\n",
      "fitIndex        None\n",
      "fixedScale      None\n",
      "imageAssistant  None\n",
      "isChisq         False\n",
      "iter            34\n",
      "keep            None\n",
      "landscape       <BayesicFitting.source.MaxLikelihoodFitter._LogL object at 0x11ad03370>\n",
      "logLikelihood   -347.1246286740039\n",
      "maxIter         2000\n",
      "model           Exp\n",
      "ndim            1\n",
      "npfit           2\n",
      "ntrans          68\n",
      "nxdata          201\n",
      "plotfreq        0\n",
      "plotter         <BayesicFitting.source.IterationPlotter.IterationPlotter object at 0x11ad03d00>\n",
      "power           2.0\n",
      "simplex         [  ]\n",
      "sumwgt          201\n",
      "tolerance       0.0001\n",
      "tooLarge        100\n",
      "values          [347.125 347.125 347.125]\n",
      "verbose         1\n",
      "weights         None\n",
      "xdata           [ 0.   0.1  0.2  0.3 ... 19.7 19.8 19.9 20. ] 201\n"
     ]
    }
   ],
   "source": [
    "fitter = AmoebaFitter( x, mdl, errdis=\"poisson\" )\n",
    " \n",
    "# find the parameters\n",
    "param = fitter.fit( y )\n",
    "\n",
    "# show all attributes of the fitter class \n",
    "printclass( fitter )"
   ]
  },
  {
   "cell_type": "code",
   "execution_count": 6,
   "metadata": {
    "execution": {
     "iopub.execute_input": "2022-11-17T04:49:53.773473Z",
     "iopub.status.busy": "2022-11-17T04:49:53.773188Z",
     "iopub.status.idle": "2022-11-17T04:49:53.774393Z",
     "shell.execute_reply": "2022-11-17T04:49:53.774564Z"
    },
    "scrolled": true
   },
   "outputs": [
    {
     "name": "stdout",
     "output_type": "stream",
     "text": [
      "Parameters : [   17.114   -0.194]\n",
      "StDevs     : [    0.513    0.008]\n",
      "Chisq      :   702.061\n",
      "Scale      :     1.869\n",
      "Evidence   :  -157.616\n"
     ]
    }
   ],
   "source": [
    "print( \"Parameters :\", fmt( param ) )\n",
    "print( \"StDevs     :\", fmt( fitter.stdevs ) )\n",
    "print( \"Chisq      :\", fmt( fitter.chisq ) )\n",
    "print( \"Scale      :\", fmt( fitter.scale ) )\n",
    "print( \"Evidence   :\", fmt( fitter.getEvidence( limits=[-100,100] ) ) )"
   ]
  },
  {
   "cell_type": "code",
   "execution_count": 7,
   "metadata": {
    "execution": {
     "iopub.execute_input": "2022-11-17T04:49:53.781374Z",
     "iopub.status.busy": "2022-11-17T04:49:53.780134Z",
     "iopub.status.idle": "2022-11-17T04:49:53.823644Z",
     "shell.execute_reply": "2022-11-17T04:49:53.823828Z"
    }
   },
   "outputs": [
    {
     "data": {
      "image/png": "[encoded data removed]",
      "text/plain": [
       "<Figure size 504x360 with 1 Axes>"
      ]
     },
     "metadata": {
      "needs_background": "light"
     },
     "output_type": "display_data"
    }
   ],
   "source": [
    "plotFit( x, data=y, model=mdl, fitter=fitter )"
   ]
  },
  {
   "cell_type": "code",
   "execution_count": 8,
   "metadata": {
    "execution": {
     "iopub.execute_input": "2022-11-17T04:49:53.826878Z",
     "iopub.status.busy": "2022-11-17T04:49:53.826467Z",
     "iopub.status.idle": "2022-11-17T04:49:53.828200Z",
     "shell.execute_reply": "2022-11-17T04:49:53.828369Z"
    }
   },
   "outputs": [
    {
     "name": "stdout",
     "output_type": "stream",
     "text": [
      "[   16.705   -0.187]   699.308        27\n"
     ]
    }
   ],
   "source": [
    "fitter = AmoebaFitter( x, mdl )\n",
    "param = fitter.fit( y )\n",
    "print( fmt( param), fmt( fitter.chisq ), fmt( fitter.iter ) )"
   ]
  },
  {
   "cell_type": "code",
   "execution_count": 9,
   "metadata": {
    "execution": {
     "iopub.execute_input": "2022-11-17T04:49:53.830484Z",
     "iopub.status.busy": "2022-11-17T04:49:53.830144Z",
     "iopub.status.idle": "2022-11-17T04:49:53.832897Z",
     "shell.execute_reply": "2022-11-17T04:49:53.833077Z"
    }
   },
   "outputs": [
    {
     "name": "stdout",
     "output_type": "stream",
     "text": [
      "[   16.705   -0.187]   699.308        26\n"
     ]
    }
   ],
   "source": [
    "fitter = AmoebaFitter( x, mdl, errdis=\"gauss\" )\n",
    "param = fitter.fit( y )\n",
    "print( fmt( param), fmt( fitter.chisq ), fmt( fitter.iter ) )"
   ]
  },
  {
   "cell_type": "code",
   "execution_count": 10,
   "metadata": {
    "execution": {
     "iopub.execute_input": "2022-11-17T04:49:53.837389Z",
     "iopub.status.busy": "2022-11-17T04:49:53.837038Z",
     "iopub.status.idle": "2022-11-17T04:49:53.839198Z",
     "shell.execute_reply": "2022-11-17T04:49:53.839372Z"
    }
   },
   "outputs": [
    {
     "name": "stdout",
     "output_type": "stream",
     "text": [
      "[   17.026   -0.196]   702.887        38\n"
     ]
    }
   ],
   "source": [
    "fitter = AmoebaFitter( x, mdl, errdis=\"laplace\" )\n",
    "param = fitter.fit( y )\n",
    "print( fmt( param), fmt( fitter.chisq ), fmt( fitter.iter ) )"
   ]
  },
  {
   "cell_type": "code",
   "execution_count": 11,
   "metadata": {
    "execution": {
     "iopub.execute_input": "2022-11-17T04:49:53.841251Z",
     "iopub.status.busy": "2022-11-17T04:49:53.840938Z",
     "iopub.status.idle": "2022-11-17T04:49:53.844189Z",
     "shell.execute_reply": "2022-11-17T04:49:53.844410Z"
    }
   },
   "outputs": [
    {
     "name": "stdout",
     "output_type": "stream",
     "text": [
      "[   16.906   -0.196]   703.205        26\n"
     ]
    }
   ],
   "source": [
    "fitter = AmoebaFitter( x, mdl, errdis=\"cauchy\" )\n",
    "param = fitter.fit( y )\n",
    "print( fmt( param), fmt( fitter.chisq ), fmt( fitter.iter ) )"
   ]
  },
  {
   "cell_type": "code",
   "execution_count": 12,
   "metadata": {
    "execution": {
     "iopub.execute_input": "2022-11-17T04:49:53.848255Z",
     "iopub.status.busy": "2022-11-17T04:49:53.847940Z",
     "iopub.status.idle": "2022-11-17T04:49:53.850367Z",
     "shell.execute_reply": "2022-11-17T04:49:53.850214Z"
    }
   },
   "outputs": [
    {
     "name": "stdout",
     "output_type": "stream",
     "text": [
      "[   17.110   -0.194]   701.990        22\n"
     ]
    }
   ],
   "source": [
    "fitter = AmoebaFitter( x, mdl, errdis=\"poisson\" )\n",
    "param = fitter.fit( y )\n",
    "print( fmt( param), fmt( fitter.chisq ), fmt( fitter.iter ))"
   ]
  },
  {
   "cell_type": "code",
   "execution_count": null,
   "metadata": {},
   "outputs": [],
   "source": []
  }
 ],
 "metadata": {
  "anaconda-cloud": {},
  "kernelspec": {
   "display_name": "Python 3 (ipykernel)",
   "language": "python",
   "name": "python3"
  },
  "language_info": {
   "codemirror_mode": {
    "name": "ipython",
    "version": 3
   },
   "file_extension": ".py",
   "mimetype": "text/x-python",
   "name": "python",
   "nbconvert_exporter": "python",
   "pygments_lexer": "ipython3",
   "version": "3.8.12"
  }
 },
 "nbformat": 4,
 "nbformat_minor": 1
}
