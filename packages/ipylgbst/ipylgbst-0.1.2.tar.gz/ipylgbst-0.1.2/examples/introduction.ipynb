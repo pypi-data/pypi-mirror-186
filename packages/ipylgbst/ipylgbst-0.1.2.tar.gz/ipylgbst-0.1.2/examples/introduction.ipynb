{
 "cells": [
  {
   "cell_type": "code",
   "execution_count": 1,
   "id": "a2bf086d-f459-41de-82ec-ebaffb900d91",
   "metadata": {},
   "outputs": [],
   "source": [
    "%gui asyncio"
   ]
  },
  {
   "cell_type": "code",
   "execution_count": 1,
   "id": "1c6c3365-84b3-4883-a815-8388555b6554",
   "metadata": {},
   "outputs": [
    {
     "data": {
      "application/vnd.jupyter.widget-view+json": {
       "model_id": "4d55f656c2694a25a0b859aa0cce5325",
       "version_major": 2,
       "version_minor": 0
      },
      "text/plain": [
       "LegoBoostWidget(device_info={'ports': {'A': {'action': '', 'angle': 0}, 'B': {'action': '', 'angle': 0}, 'AB':…"
      ]
     },
     "execution_count": 1,
     "metadata": {},
     "output_type": "execute_result"
    }
   ],
   "source": [
    "import asyncio    \n",
    "from ipylgbst import LegoBoostWidget,LedColor,Port\n",
    "boost = LegoBoostWidget()\n",
    "boost"
   ]
  },
  {
   "cell_type": "code",
   "execution_count": 2,
   "id": "62924267-c398-4274-8780-91739cdacafe",
   "metadata": {},
   "outputs": [
    {
     "data": {
      "application/vnd.jupyter.widget-view+json": {
       "model_id": "646a71709db2475880f61be3847b5d25",
       "version_major": 2,
       "version_minor": 0
      },
      "text/plain": [
       "Output()"
      ]
     },
     "metadata": {},
     "output_type": "display_data"
    }
   ],
   "source": [
    "\n",
    "async def main(boost, out):\n",
    "    def print(x):\n",
    "        out.append_stdout(f\"{x}\\n\")\n",
    "        \n",
    "\n",
    "    print(\"jeah\")\n",
    "\n",
    "    print(\"await connect\")\n",
    "    await boost.connect()\n",
    "    print(\"await done\")\n",
    "    #out.append_stdout(\"connect done\\n\")\n",
    "\n",
    "\n",
    "    # print(\"stuff\")\n",
    "    await boost.drive(3)\n",
    "    \n",
    "    # todo also have single function for that\n",
    "    while True:\n",
    "        import asyncio\n",
    "        if await boost.get_distance() <80:\n",
    "            break\n",
    "\n",
    "    await boost.turn(360)\n",
    "    await asyncio.sleep(2)\n",
    "\n",
    "    await boost.drive(3)\n",
    "    await asyncio.sleep(1)\n",
    "\n",
    "    await boost.drive(-3)\n",
    "    await boost.turn(180)\n",
    "    \n",
    "future = boost.run(main)"
   ]
  },
  {
   "cell_type": "code",
   "execution_count": 3,
   "id": "208c03fa-469e-4c43-a473-936eabaa51a2",
   "metadata": {},
   "outputs": [
    {
     "data": {
      "application/vnd.jupyter.widget-view+json": {
       "model_id": "50ee62fac0e743a6b3dab1585609a958",
       "version_major": 2,
       "version_minor": 0
      },
      "text/plain": [
       "Output()"
      ]
     },
     "metadata": {},
     "output_type": "display_data"
    }
   ],
   "source": [
    "\n",
    "async def main(boost, out):\n",
    "    def p(x):\n",
    "        out.append_stdout(f\"{x}\\n\")\n",
    "        \n",
    "    await boost.connect()\n",
    "    \n",
    "    await boost.motorTime(Port.A, 20,-10)\n",
    "    while True:\n",
    "        import asyncio\n",
    "        p(\"a\")\n",
    "        await asyncio.sleep(1)\n",
    "        p(\"b\")\n",
    "        d =  await boost.get_distance()\n",
    "        p(d)\n",
    "        if d < 80:\n",
    "            await boost.motorTime(Port.A, 0,0)\n",
    "            break\n",
    "    \n",
    "future = boost.run(main)\n"
   ]
  },
  {
   "cell_type": "code",
   "execution_count": null,
   "id": "c2dd5607-2fc1-42e7-8225-835d2f46860a",
   "metadata": {},
   "outputs": [],
   "source": []
  },
  {
   "cell_type": "code",
   "execution_count": null,
   "id": "b1e2bff5-594e-4bce-bc19-be384a6ee8a4",
   "metadata": {},
   "outputs": [],
   "source": []
  },
  {
   "cell_type": "code",
   "execution_count": null,
   "id": "aca35f53-6f6c-44ca-a8d9-3197898489ef",
   "metadata": {},
   "outputs": [],
   "source": []
  }
 ],
 "metadata": {
  "kernelspec": {
   "display_name": "Python 3 (ipykernel)",
   "language": "python",
   "name": "python3"
  },
  "language_info": {
   "codemirror_mode": {
    "name": "ipython",
    "version": 3
   },
   "file_extension": ".py",
   "mimetype": "text/x-python",
   "name": "python",
   "nbconvert_exporter": "python",
   "pygments_lexer": "ipython3",
   "version": "3.11.0"
  }
 },
 "nbformat": 4,
 "nbformat_minor": 5
}
