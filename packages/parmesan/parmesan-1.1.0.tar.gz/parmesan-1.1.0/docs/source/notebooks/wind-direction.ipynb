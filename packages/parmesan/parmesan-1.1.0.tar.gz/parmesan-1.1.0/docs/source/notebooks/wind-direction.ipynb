{
 "cells": [
  {
   "cell_type": "markdown",
   "metadata": {},
   "source": [
    "# 🍃 Wind Direction"
   ]
  },
  {
   "cell_type": "markdown",
   "metadata": {},
   "source": [
    "This is just a demonstration of the different (wind) vector directions that can be calculated. Just have a look at the plots at the bottom, don't bother the boilerplate code."
   ]
  },
  {
   "cell_type": "code",
   "execution_count": null,
   "metadata": {},
   "outputs": [],
   "source": [
    "import matplotlib\n",
    "import matplotlib.pyplot as plt\n",
    "import numpy as np\n",
    "import itertools"
   ]
  },
  {
   "cell_type": "code",
   "execution_count": null,
   "metadata": {},
   "outputs": [],
   "source": [
    "import parmesan\n",
    "from parmesan.units import units\n",
    "from parmesan.wind import wind_direction"
   ]
  },
  {
   "cell_type": "code",
   "execution_count": null,
   "metadata": {},
   "outputs": [],
   "source": [
    "plt.rcParams[\"figure.figsize\"] = (10, 10)\n",
    "plt.rcParams[\"axes.grid\"] = True\n",
    "plt.rcParams[\"axes.axisbelow\"] = True\n",
    "plt.rcParams[\"font.size\"] = 20\n",
    "plt.rcParams[\"legend.fontsize\"] = \"medium\"\n",
    "plt.rcParams[\"font.family\"] = \"monospace\""
   ]
  },
  {
   "cell_type": "code",
   "execution_count": null,
   "metadata": {},
   "outputs": [],
   "source": [
    "def arrow_grid(**arrow_props):\n",
    "    # Set up figure and axis\n",
    "    fig, ax = plt.subplots()\n",
    "    ax.set_xlim((-1.7, 1.7))\n",
    "    ax.set_ylim(ax.get_xlim())\n",
    "    ax.set_aspect(\"equal\")\n",
    "    ax.set_frame_on(False)\n",
    "    ax.tick_params(\n",
    "        left=False, bottom=False, labelleft=False, labelbottom=False\n",
    "    )\n",
    "\n",
    "    # Grid and tick locations\n",
    "    locator = matplotlib.ticker.MultipleLocator(0.5)\n",
    "    ax.xaxis.set_major_locator(locator)\n",
    "    ax.yaxis.set_major_locator(locator)\n",
    "\n",
    "    # Axis arrows\n",
    "    ax.arrow(-1.5, 0, 3, 0, facecolor=\"#444444\", **arrow_props)\n",
    "    ax.arrow(0, -1.5, 0, 3, facecolor=\"#444444\", **arrow_props)\n",
    "\n",
    "    return fig, ax"
   ]
  },
  {
   "cell_type": "code",
   "execution_count": null,
   "metadata": {},
   "outputs": [],
   "source": [
    "def show_angle(\n",
    "    angle,\n",
    "    ax,\n",
    "    radius,\n",
    "    angle_kwargs=tuple(),\n",
    "    **kwargs,\n",
    "):\n",
    "    kwargs.setdefault(\n",
    "        \"label\",\n",
    "        \"{:>03.0f~P} | {}\".format(\n",
    "            angle.to(\"degrees\"),\n",
    "            \" \".join(f\"{k}={str(v):5s}\" for k, v in angle_kwargs.items()),\n",
    "        ),\n",
    "    )\n",
    "    angle = angle.to(\"degree\").m\n",
    "    ax.add_patch(\n",
    "        matplotlib.patches.Arc(\n",
    "            (0, 0),\n",
    "            width=radius * 2,\n",
    "            height=radius * 2,\n",
    "            angle=(0 if angle_kwargs.get(\"math_origin\") else 90)\n",
    "            - (angle if angle_kwargs.get(\"clockwise\") else 0),\n",
    "            theta1=0,\n",
    "            theta2=angle,\n",
    "            **kwargs,\n",
    "        )\n",
    "    )"
   ]
  },
  {
   "cell_type": "code",
   "execution_count": null,
   "metadata": {},
   "outputs": [],
   "source": [
    "def draw_example_vector(\n",
    "    x, y, ax, label=\"(x,y)\", invertedlabel=\"inverted\", **arrow_props\n",
    "):\n",
    "    ax.arrow(\n",
    "        0,\n",
    "        0,\n",
    "        x,\n",
    "        y,\n",
    "        facecolor=\"red\",\n",
    "        **{**arrow_props, \"width\": 0.08, \"head_width\": 0.2},\n",
    "    )\n",
    "    ax.text(x, y, label)\n",
    "    ax.arrow(\n",
    "        -x,\n",
    "        -v,\n",
    "        x,\n",
    "        y,\n",
    "        alpha=0.2,\n",
    "        **{\n",
    "            \"facecolor\": \"red\",\n",
    "            **arrow_props,\n",
    "            \"width\": 0.08,\n",
    "            \"head_width\": 0.2,\n",
    "        },\n",
    "    )\n",
    "    ax.text(-x, -y, invertedlabel, ha=\"right\")"
   ]
  },
  {
   "cell_type": "code",
   "execution_count": null,
   "metadata": {},
   "outputs": [],
   "source": [
    "arrow_props = dict(\n",
    "    width=0.05,\n",
    "    head_width=0.15,\n",
    "    edgecolor=\"none\",\n",
    "    length_includes_head=True,\n",
    "    zorder=10,\n",
    ")"
   ]
  },
  {
   "cell_type": "markdown",
   "metadata": {},
   "source": [
    "## The `wind_direction()` function"
   ]
  },
  {
   "cell_type": "markdown",
   "metadata": {},
   "source": [
    "The `wind_direction()` function can be used to calculate the meteorological wind direction."
   ]
  },
  {
   "cell_type": "code",
   "execution_count": null,
   "metadata": {},
   "outputs": [],
   "source": [
    "fig, ax = arrow_grid(**arrow_props)\n",
    "ax.text(1.6, 0, \"E\", ha=\"center\", va=\"center\")\n",
    "ax.text(0, -1.6, \"S\", ha=\"center\", va=\"center\")\n",
    "ax.text(0, 1.6, \"N\", ha=\"center\", va=\"center\")\n",
    "ax.text(-1.6, 0, \"W\", ha=\"center\", va=\"center\")\n",
    "\n",
    "u, v = 0.8, -1.1\n",
    "draw_example_vector(\n",
    "    x=u,\n",
    "    y=v,\n",
    "    label=\"wind vector\\n(u,v)\",\n",
    "    invertedlabel=\"origin\\nof the wind\",\n",
    "    ax=ax,\n",
    "    **arrow_props\n",
    ")\n",
    "\n",
    "show_angle(\n",
    "    ax=ax,\n",
    "    angle=wind_direction(u=u, v=v),\n",
    "    angle_kwargs=dict(inverted=True, clockwise=True, math_origin=False),\n",
    "    linestyle=\"dotted\",\n",
    "    color=\"royalblue\",\n",
    "    radius=0.9,\n",
    "    label=\"meteorological\\nwind direction\",\n",
    "    linewidth=3,\n",
    ")\n",
    "\n",
    "\n",
    "# legend outside of the axis\n",
    "ax.legend(bbox_to_anchor=(1, 0.8), frameon=False)"
   ]
  },
  {
   "cell_type": "markdown",
   "metadata": {},
   "source": [
    "## The `vector.angle()` function"
   ]
  },
  {
   "cell_type": "markdown",
   "metadata": {},
   "source": [
    "This demonstrates the difference angles calculatable using the `vector.angle()` function:"
   ]
  },
  {
   "cell_type": "code",
   "execution_count": null,
   "metadata": {},
   "outputs": [],
   "source": [
    "fig, ax = arrow_grid(**arrow_props)\n",
    "ax.text(1.6, 0, \"x\", ha=\"center\", va=\"center\")\n",
    "ax.text(0, 1.6, \"y\", ha=\"center\", va=\"center\")\n",
    "\n",
    "x, y = 0.8, -1.1\n",
    "draw_example_vector(x=x, y=y, label=\"(x,y)\", ax=ax, **arrow_props)\n",
    "\n",
    "\n",
    "radius = itertools.count(start=1, step=-0.11)\n",
    "color = itertools.cycle((\"green\", \"orange\", \"blue\", \"red\", \"black\", \"violet\"))\n",
    "linestyle = itertools.cycle(\n",
    "    (\"solid\", \"dashed\", \"dotted\", (0, (3, 1, 1, 1)), (0, (1, 1)))\n",
    ")\n",
    "\n",
    "\n",
    "# angle annotations\n",
    "for angle_kwargs in parmesan.utils.all_argument_combinations(\n",
    "    {k: (True, False) for k in (\"clockwise\", \"inverted\", \"math_origin\")}\n",
    "):\n",
    "    show_angle(\n",
    "        angle=parmesan.vector.angle(x, y, **angle_kwargs),\n",
    "        ax=ax,\n",
    "        angle_kwargs=angle_kwargs,\n",
    "        radius=next(radius),\n",
    "        color=next(color),\n",
    "        linestyle=next(linestyle),\n",
    "        linewidth=3,\n",
    "    )\n",
    "\n",
    "\n",
    "# legend outside of the axis\n",
    "plt.rcParams[\"legend.fontsize\"] = \"xx-small\"\n",
    "ax.legend(bbox_to_anchor=(1, 0.8), frameon=False)\n",
    "fig.subplots_adjust(left=0, right=0.5)"
   ]
  }
 ],
 "metadata": {
  "kernelspec": {
   "display_name": "Python 3",
   "language": "python",
   "name": "python3"
  },
  "language_info": {
   "codemirror_mode": {
    "name": "ipython",
    "version": 3
   },
   "file_extension": ".py",
   "mimetype": "text/x-python",
   "name": "python",
   "nbconvert_exporter": "python",
   "pygments_lexer": "ipython3",
   "version": "3.10.2"
  }
 },
 "nbformat": 4,
 "nbformat_minor": 4
}
