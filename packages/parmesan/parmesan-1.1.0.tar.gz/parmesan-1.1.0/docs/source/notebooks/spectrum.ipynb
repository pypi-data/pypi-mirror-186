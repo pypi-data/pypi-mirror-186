{
 "cells": [
  {
   "cell_type": "markdown",
   "metadata": {},
   "source": [
    "# 📉 Calculating a Spectrum"
   ]
  },
  {
   "cell_type": "code",
   "execution_count": null,
   "metadata": {},
   "outputs": [],
   "source": [
    "import datetime\n",
    "\n",
    "import matplotlib.pyplot as plt\n",
    "import numpy as np\n",
    "\n",
    "np.random.seed(42)\n",
    "import pandas as pd\n",
    "\n",
    "import parmesan"
   ]
  },
  {
   "cell_type": "markdown",
   "metadata": {},
   "source": [
    "## Create some data"
   ]
  },
  {
   "cell_type": "markdown",
   "metadata": {},
   "source": [
    "You would normally read this from a CSV file for example. Let's generate an oscillating signal containing a smaller 3Hz and a stronger 2 Hz signal, a linear trend and some random walk noise:"
   ]
  },
  {
   "cell_type": "code",
   "execution_count": null,
   "metadata": {},
   "outputs": [],
   "source": [
    "t = np.arange(0, 15, 0.01)\n",
    "data = pd.DataFrame(\n",
    "    {\n",
    "        \"measurement\":\n",
    "        # smaller 3Hz sine\n",
    "        1.5 * np.sin(t * 2 * np.pi * 3)\n",
    "        # larger 2 Hz cosine\n",
    "        + 3 * np.cos(t * 2 * np.pi * 2)\n",
    "        # linear trend\n",
    "        + 0.5 * t\n",
    "        - 4\n",
    "        # random walk noise\n",
    "        + np.cumsum((np.random.random(t.size) - 0.5) / 0.5)\n",
    "    },\n",
    "    index=pd.to_datetime(t, unit=\"s\", origin=datetime.datetime.now()),\n",
    ")"
   ]
  },
  {
   "cell_type": "markdown",
   "metadata": {},
   "source": [
    "This is our data:"
   ]
  },
  {
   "cell_type": "code",
   "execution_count": null,
   "metadata": {},
   "outputs": [],
   "source": [
    "data"
   ]
  },
  {
   "cell_type": "markdown",
   "metadata": {},
   "source": [
    "This is what it looks like:"
   ]
  },
  {
   "cell_type": "code",
   "execution_count": null,
   "metadata": {},
   "outputs": [],
   "source": [
    "data.plot()"
   ]
  },
  {
   "cell_type": "markdown",
   "metadata": {},
   "source": [
    "## Calculating the spectrum"
   ]
  },
  {
   "cell_type": "markdown",
   "metadata": {},
   "source": [
    "There are severeal ways to use `parmesan`'s spectrum calculation function. The simplest is directly from the `pandas` object:"
   ]
  },
  {
   "cell_type": "code",
   "execution_count": null,
   "metadata": {},
   "outputs": [],
   "source": [
    "data.parmesan.spectrum()"
   ]
  },
  {
   "cell_type": "markdown",
   "metadata": {},
   "source": [
    "You can also directly plot it via `pandas`' plotting capabilities:"
   ]
  },
  {
   "cell_type": "code",
   "execution_count": null,
   "metadata": {},
   "outputs": [],
   "source": [
    "data.measurement.parmesan.spectrum().plot()"
   ]
  },
  {
   "cell_type": "markdown",
   "metadata": {},
   "source": [
    "> **Hint**: In an interactive `matplotlib` plot, you can move the mouse into the plotting area and press the `K` or `L` key to toggle logarithmic axes scale."
   ]
  },
  {
   "cell_type": "markdown",
   "metadata": {},
   "source": [
    "If you'd like to see it on a double-logarithmic scale also with a Kolmogorov power-law fit from the very beginning:"
   ]
  },
  {
   "cell_type": "code",
   "execution_count": null,
   "metadata": {},
   "outputs": [],
   "source": [
    "fig, ax = plt.subplots()\n",
    "data.measurement.parmesan.spectrum(with_kolmogorov=True).plot(ax=ax)\n",
    "ax.set_xscale(\"log\")\n",
    "ax.set_yscale(\"log\")\n",
    "# mark the dominant frequencies\n",
    "ax.axvline(2, label=\"2 Hz\", color=\"red\", zorder=-1)\n",
    "ax.axvline(3, label=\"3 Hz\", color=\"green\", zorder=-1)\n",
    "ax.legend()"
   ]
  },
  {
   "cell_type": "markdown",
   "metadata": {},
   "source": [
    "You could also have calculated the spectrum for the specific column:"
   ]
  },
  {
   "cell_type": "code",
   "execution_count": null,
   "metadata": {},
   "outputs": [],
   "source": [
    "data.measurement.parmesan.spectrum()"
   ]
  },
  {
   "cell_type": "markdown",
   "metadata": {},
   "source": [
    "Or by invoking the underlying function directly"
   ]
  },
  {
   "cell_type": "code",
   "execution_count": null,
   "metadata": {},
   "outputs": [],
   "source": [
    "parmesan.analysis.spectrum(data.measurement)"
   ]
  },
  {
   "cell_type": "markdown",
   "metadata": {},
   "source": [
    "If you don't work with `pandas` but only have a simple `numpy.array` for times and data like this:"
   ]
  },
  {
   "cell_type": "code",
   "execution_count": null,
   "metadata": {},
   "outputs": [],
   "source": [
    "data_as_array = data.measurement.values\n",
    "data_as_array"
   ]
  },
  {
   "cell_type": "code",
   "execution_count": null,
   "metadata": {},
   "outputs": [],
   "source": [
    "times_as_array = data.index.values\n",
    "times_as_array"
   ]
  },
  {
   "cell_type": "markdown",
   "metadata": {},
   "source": [
    "... Then you can still use the underlying `spectrum` function:"
   ]
  },
  {
   "cell_type": "code",
   "execution_count": null,
   "metadata": {},
   "outputs": [],
   "source": [
    "frequency, power = parmesan.analysis.spectrum(\n",
    "    data_as_array, times=times_as_array\n",
    ")"
   ]
  }
 ],
 "metadata": {
  "kernelspec": {
   "display_name": "Python 3",
   "language": "python",
   "name": "python3"
  },
  "language_info": {
   "codemirror_mode": {
    "name": "ipython",
    "version": 3
   },
   "file_extension": ".py",
   "mimetype": "text/x-python",
   "name": "python",
   "nbconvert_exporter": "python",
   "pygments_lexer": "ipython3",
   "version": "3.10.2"
  }
 },
 "nbformat": 4,
 "nbformat_minor": 4
}
