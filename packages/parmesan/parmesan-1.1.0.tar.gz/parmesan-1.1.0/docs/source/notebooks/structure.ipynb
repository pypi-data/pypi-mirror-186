{
 "cells": [
  {
   "cell_type": "markdown",
   "id": "cec61087-0b16-416b-b215-fe8aebab52d2",
   "metadata": {},
   "source": [
    "# 📈 Structure Function\n",
    "\n",
    "This is an example on how to use the structure function calculation and how to plot it.\n",
    "\n",
    "## Basic description\n",
    "\n",
    "The structure function is calculated from real input data and a timestamp. The input can be Array, Dataframe or Series objects, with each case briefly demonstrated below. "
   ]
  },
  {
   "cell_type": "code",
   "execution_count": null,
   "id": "004e92a8-9fb8-4b80-8a91-e3731f1755f7",
   "metadata": {},
   "outputs": [],
   "source": [
    "import matplotlib.pyplot as plt\n",
    "import numpy as np\n",
    "import pandas as pd\n",
    "import scipy.optimize\n",
    "from matplotlib.ticker import ScalarFormatter"
   ]
  },
  {
   "cell_type": "code",
   "execution_count": null,
   "id": "717f71a2-e8de-4186-9395-1159fb56e927",
   "metadata": {},
   "outputs": [],
   "source": [
    "import parmesan\n",
    "from parmesan.analysis import structure, structure_function"
   ]
  },
  {
   "cell_type": "code",
   "execution_count": null,
   "id": "9865af6b-8f2b-4bbf-9b56-73891bfd15ab",
   "metadata": {},
   "outputs": [],
   "source": [
    "def fit_powerlaw(x, y, exponent=1):\n",
    "    def powerlaw(x, a):\n",
    "        return a * x**exponent\n",
    "\n",
    "    popt, pcov = scipy.optimize.curve_fit(powerlaw, x, y)\n",
    "    return powerlaw(x, popt[0])"
   ]
  },
  {
   "cell_type": "markdown",
   "id": "a7573680",
   "metadata": {},
   "source": [
    "This is a set of modifications for plot appearance (up to the individual's personal aesthetics):"
   ]
  },
  {
   "cell_type": "code",
   "execution_count": null,
   "id": "406c87e9-f62a-4b32-a367-ac445de2f9ec",
   "metadata": {},
   "outputs": [],
   "source": [
    "plt.rcParams[\"figure.figsize\"] = (10, 6)\n",
    "plt.rcParams[\"axes.grid\"] = True\n",
    "plt.rcParams[\"axes.axisbelow\"] = True\n",
    "plt.rcParams[\"font.size\"] = 15\n",
    "plt.rcParams[\"legend.fontsize\"] = \"medium\"\n",
    "plt.rcParams[\"font.family\"] = \"monospace\""
   ]
  },
  {
   "cell_type": "markdown",
   "id": "bb2e5d5a-f155-44b6-af8f-58c75a89897f",
   "metadata": {},
   "source": [
    "## Dummy signal generation"
   ]
  },
  {
   "cell_type": "markdown",
   "id": "48705f6f",
   "metadata": {},
   "source": [
    "### Step"
   ]
  },
  {
   "cell_type": "markdown",
   "id": "712753cb",
   "metadata": {},
   "source": [
    "First step is to create a \"fake\" dataset for the function test. In a real life scenario, one would import their data from a .txt, .csv or similar kind of file.\n",
    "\n",
    "Firstly, a step is defined:"
   ]
  },
  {
   "cell_type": "code",
   "execution_count": null,
   "id": "902be65b-c2ee-4bba-8290-9c6c2257747c",
   "metadata": {},
   "outputs": [],
   "source": [
    "ns = 7000"
   ]
  },
  {
   "cell_type": "markdown",
   "id": "0b6b6037",
   "metadata": {},
   "source": [
    "Then, let's create a datetime Series with the above step, between two specific arbitrary datetimes (in this case, it's a period of 40 seconds in total):"
   ]
  },
  {
   "cell_type": "code",
   "execution_count": null,
   "id": "95104379",
   "metadata": {},
   "outputs": [],
   "source": [
    "t_arr = pd.date_range(\n",
    "    start=\"2021-04-29 10:00:00\", periods=ns, end=\"2021-04-29 10:00:40\"\n",
    ")  # a datetime array using ns number of steps, between two specific arbitrary dates"
   ]
  },
  {
   "cell_type": "markdown",
   "id": "1897232d",
   "metadata": {},
   "source": [
    "Now, a conversion to a numpy array and then epochtime format:"
   ]
  },
  {
   "cell_type": "code",
   "execution_count": null,
   "id": "adcb96e6",
   "metadata": {},
   "outputs": [],
   "source": [
    "t = np.linspace(0, 15, ns)\n",
    "\n",
    "t1 = np.array(t_arr)\n",
    "epoch = t1.astype(np.int64) / 10**9"
   ]
  },
  {
   "cell_type": "markdown",
   "id": "ee781b1e",
   "metadata": {},
   "source": [
    "### Signal: Sin wave"
   ]
  },
  {
   "cell_type": "markdown",
   "id": "59fe5c87",
   "metadata": {},
   "source": [
    "From the procedure above, we now have our timestep as an epochtime array. This is one of the two main arguments needed in the structure function. The other one is of course the signal and for starters, let's try giving a simple sinus function:"
   ]
  },
  {
   "cell_type": "code",
   "execution_count": null,
   "id": "32ae9d19",
   "metadata": {},
   "outputs": [],
   "source": [
    "wave = np.sin(2 * np.pi * (epoch - epoch[0]))"
   ]
  },
  {
   "cell_type": "markdown",
   "id": "4b8697d1",
   "metadata": {},
   "source": [
    "One would expect the structure function's behavior to be an undulation between anti-correlation (value of 2) and correlation (value of 0) periodically according to the wave's frequency. Let's call the function and look at the plot:"
   ]
  },
  {
   "cell_type": "code",
   "execution_count": null,
   "id": "8e8891b0",
   "metadata": {},
   "outputs": [],
   "source": [
    "sh_arr, D_arr = structure(wave, t_arr)  # the time shift and structure function\n",
    "\n",
    "fig = plt.figure()\n",
    "plt.plot(sh_arr, D_arr, lw=2, color=\"darkgray\")\n",
    "plt.axvline(0.5, color=\"red\", lw=2, label=\"Anti-correlated\")\n",
    "plt.axvline(0.75, color=\"green\", lw=2, label=\"Uncorrelated\")\n",
    "plt.axvline(1, color=\"navy\", lw=2, label=\"Correlated\")\n",
    "plt.ylabel(\"Structure Function D\", fontsize=20, fontweight=\"bold\")\n",
    "plt.legend(loc=4);"
   ]
  },
  {
   "cell_type": "markdown",
   "id": "04b6247e",
   "metadata": {},
   "source": [
    "The structure function's outcome is pretty elegant: considering one full period, the signal shows full anti-correlation after T/2 (same amplitude but opposite sign, i.e the red line), and then moves to correlation after another T/2 (i.e. the green line). It is exactly the result you would expect when having the structure function's formula in mind."
   ]
  },
  {
   "cell_type": "code",
   "execution_count": null,
   "id": "fa155b99",
   "metadata": {},
   "outputs": [],
   "source": [
    "t2 = np.linspace(0.01, 0.10, 100)  # values to create a parabola\n",
    "f = 30 * (t2) ** 2  # simple parabola example"
   ]
  },
  {
   "cell_type": "markdown",
   "id": "7e7da306",
   "metadata": {},
   "source": [
    "The same plot in logarithmic axes:"
   ]
  },
  {
   "cell_type": "code",
   "execution_count": null,
   "id": "02ddd7be",
   "metadata": {},
   "outputs": [],
   "source": [
    "fig = plt.figure()\n",
    "plt.loglog(sh_arr, D_arr, lw=2, color=\"black\")\n",
    "plt.loglog(t2, f, lw=3, label=\"Slope = 2\")\n",
    "plt.grid(True, which=\"both\", ls=\"-\")\n",
    "plt.legend(loc=4);"
   ]
  },
  {
   "cell_type": "markdown",
   "id": "ec5c3f0c",
   "metadata": {},
   "source": [
    "The maximum slope accepted in the log plot of the structure function is 2. For better illustration, the blue line in the plot is a simple parabola with a logarithmic slope of 2, which is exactly the same as the left part of our plot."
   ]
  },
  {
   "cell_type": "markdown",
   "id": "cdd49e26",
   "metadata": {},
   "source": [
    "### Signal: Random dataset\n",
    "\n",
    "Now let's try creating a dataset that could resemble a real life measurement period. Using the McCartney - Voss algorithm for pink noise generation, a random dataset is imported:"
   ]
  },
  {
   "cell_type": "code",
   "execution_count": null,
   "id": "cfcd4b24",
   "metadata": {},
   "outputs": [],
   "source": [
    "wave = pd.read_csv(\n",
    "    \"yourdata.csv.xz\"\n",
    ")  # replace the name of the file with your own dataset!"
   ]
  },
  {
   "cell_type": "markdown",
   "id": "cc40fb5c",
   "metadata": {},
   "source": [
    "How the random data looks like:"
   ]
  },
  {
   "cell_type": "code",
   "execution_count": null,
   "id": "4954c213",
   "metadata": {},
   "outputs": [],
   "source": [
    "plt.figure()\n",
    "plt.plot(wave);"
   ]
  },
  {
   "cell_type": "markdown",
   "id": "66b392cb",
   "metadata": {},
   "source": [
    "Calling the structure function again:"
   ]
  },
  {
   "cell_type": "code",
   "execution_count": null,
   "id": "89a6eb31-d72c-4aa5-b01d-ed6868963442",
   "metadata": {},
   "outputs": [],
   "source": [
    "sh_arr, D_arr = structure(wave.values, t_arr)"
   ]
  },
  {
   "cell_type": "code",
   "execution_count": null,
   "id": "e5ab8e89-b6a3-4cca-96d7-831fa7e0de0a",
   "metadata": {},
   "outputs": [],
   "source": [
    "fig = plt.figure()\n",
    "plt.loglog(sh_arr, D_arr, lw=2)\n",
    "plt.ylabel(\"Structure Function D\", fontsize=20, fontweight=\"bold\")\n",
    "plt.axvline(0.03, color=\"brown\", lw=2)\n",
    "plt.plot(\n",
    "    sh_arr[region := (sh_arr < 0.03)],\n",
    "    (fit := fit_powerlaw(sh_arr[region], D_arr[region], exponent=2))\n",
    "    * np.nanmax(D_arr[region] / fit),\n",
    "    label=f\"power law 2\",\n",
    ")\n",
    "plt.axvline(0.5, color=\"black\", lw=2)\n",
    "plt.plot(\n",
    "    sh_arr[region := (0.03 < sh_arr) & (sh_arr < 0.5)],\n",
    "    (fit := fit_powerlaw(sh_arr[region], D_arr[region], exponent=2 / 3))\n",
    "    * np.max(D_arr[region] / fit),\n",
    "    label=f\"power law 2/3\",\n",
    ")\n",
    "plt.plot(\n",
    "    sh_arr[region := (0.5 < sh_arr)],\n",
    "    (fit := fit_powerlaw(sh_arr[region], D_arr[region], exponent=0))\n",
    "    * np.max(D_arr[region] / fit),\n",
    "    label=f\"constant\",\n",
    ")\n",
    "\n",
    "plt.grid(True, which=\"both\", ls=\"-\")\n",
    "plt.legend()"
   ]
  },
  {
   "cell_type": "markdown",
   "id": "fc4e9a19",
   "metadata": {},
   "source": [
    "Logarithmic axes are displayed to resemble a possible, real life scenario structure function. In that case, one could then go on and split the above plot into regions of a zeroeth slope where the variable in question is uncorrelated (on the right side of the black line), a 2/3 slope in between the brown and black lines, and slop of 2 before the brown line (correlation). \n",
    "\n",
    "**Attention**: the plot is a result of generated noise, so the slopes are not actually equal to these values, but it is only  <ins>similar</ins> to what one would encounter when calculating structure functions in reality (however, all slopes in the plot are lower than 2, which is the mathematical limit and the structure function here still adheres to it)."
   ]
  },
  {
   "cell_type": "markdown",
   "id": "5aff096f",
   "metadata": {},
   "source": [
    "If a non-normed structure function is required, an addition of an argument like this: ```normed=False``` does the job."
   ]
  },
  {
   "cell_type": "code",
   "execution_count": null,
   "id": "dc82bca3",
   "metadata": {},
   "outputs": [],
   "source": [
    "sh_arr_2, D_arr_2 = structure(wave.values, t_arr, normed=False)\n",
    "\n",
    "fig = plt.figure()\n",
    "plt.loglog(sh_arr, D_arr, label=\"Normed\")\n",
    "plt.loglog(sh_arr_2, D_arr_2, label=\"Non-normed\")\n",
    "plt.ylabel(\"Structure Function D\", fontsize=20, fontweight=\"bold\")\n",
    "plt.legend(loc=4)\n",
    "plt.axvline(0.5, color=\"black\", lw=2)\n",
    "plt.axvline(0.03, color=\"brown\", lw=2)\n",
    "plt.grid(True, which=\"both\", ls=\"-\")"
   ]
  },
  {
   "cell_type": "markdown",
   "id": "d5623b23",
   "metadata": {},
   "source": [
    "The default order of the structure function in Parmesan is 2. The user can calculate a different structure function order by adding the argument ```order=n```, where n is the desired order:"
   ]
  },
  {
   "cell_type": "code",
   "execution_count": null,
   "id": "395c9531",
   "metadata": {},
   "outputs": [],
   "source": [
    "sh_arr_3, D_arr_3 = structure(wave.values, t_arr, order=3, normed=False)\n",
    "sh_arr_4, D_arr_4 = structure(wave.values, t_arr, order=4, normed=False)\n",
    "sh_arr_5, D_arr_5 = structure(wave.values, t_arr, order=5, normed=False)\n",
    "\n",
    "fig = plt.figure()\n",
    "plt.loglog(sh_arr_2, D_arr_2, label=\"n = 2\")\n",
    "plt.loglog(sh_arr_3, D_arr_3, label=\"n = 3\")\n",
    "plt.loglog(sh_arr_4, D_arr_4, label=\"n = 4\")\n",
    "plt.loglog(sh_arr_5, D_arr_5, label=\"n = 5\")\n",
    "plt.ylabel(\"Structure Function D\", fontsize=20, fontweight=\"bold\")\n",
    "plt.legend(loc=4)\n",
    "plt.axvline(0.5, color=\"black\", lw=2)\n",
    "plt.axvline(0.03, color=\"brown\", lw=2)\n",
    "plt.grid(True, which=\"both\", ls=\"-\")"
   ]
  },
  {
   "cell_type": "markdown",
   "id": "705e2462-ed95-41d9-bb51-1a17e4d0c647",
   "metadata": {},
   "source": [
    "## Input case 2: Dataframe"
   ]
  },
  {
   "cell_type": "markdown",
   "id": "ac5009d6",
   "metadata": {},
   "source": [
    "In the cases above, the structure function is called by using two arrays as an input (note the ```wave.values``` lines). The user can also call the function directly with a two-column dataframe of the step and signal."
   ]
  },
  {
   "cell_type": "markdown",
   "id": "3c1cc6e6",
   "metadata": {},
   "source": [
    "Create a dataframe that has the selected timestamp as index and one column with the signal values. In this case, the column is named \"wave\":"
   ]
  },
  {
   "cell_type": "code",
   "execution_count": null,
   "id": "ef54aa6b-b9a1-42d9-86f8-17ea61e0dd99",
   "metadata": {},
   "outputs": [],
   "source": [
    "w_df = pd.DataFrame(wave.values, columns=[\"wave\"], index=t_arr)"
   ]
  },
  {
   "cell_type": "markdown",
   "id": "a9b9896e",
   "metadata": {},
   "source": [
    "Now, the structure function can be called with only the ```w_df``` parameter:"
   ]
  },
  {
   "cell_type": "code",
   "execution_count": null,
   "id": "e1049f77",
   "metadata": {},
   "outputs": [],
   "source": [
    "D_df = structure(w_df)"
   ]
  },
  {
   "cell_type": "markdown",
   "id": "6049b060",
   "metadata": {},
   "source": [
    "The plot:"
   ]
  },
  {
   "cell_type": "code",
   "execution_count": null,
   "id": "c9499a2c",
   "metadata": {},
   "outputs": [],
   "source": [
    "fig = plt.figure()\n",
    "plt.loglog(D_df.index, D_df[\"wave\"])\n",
    "plt.ylabel(\"Structure Function D\", fontsize=20, fontweight=\"bold\")\n",
    "plt.axvline(0.5, color=\"black\", lw=2)\n",
    "plt.axvline(0.03, color=\"brown\", lw=2)\n",
    "plt.grid(True, which=\"both\", ls=\"-\")"
   ]
  },
  {
   "cell_type": "markdown",
   "id": "8a2f08d5-664a-4609-90f2-794daad1c409",
   "metadata": {},
   "source": [
    "## Input case 3: Series"
   ]
  },
  {
   "cell_type": "markdown",
   "id": "258b03a8",
   "metadata": {},
   "source": [
    "For the sake of the example, we convert the dataframe for before to a series by using the ```df.squeeze()``` function, which converts 1-D Dataframes to scalars. Then, the function is called immediately:"
   ]
  },
  {
   "cell_type": "code",
   "execution_count": null,
   "id": "83d9eb80-fe2e-4b96-93a8-b2f267ea5d55",
   "metadata": {},
   "outputs": [],
   "source": [
    "D_s = w_df.squeeze().parmesan.structure()"
   ]
  },
  {
   "cell_type": "markdown",
   "id": "3b0b2405",
   "metadata": {},
   "source": [
    "The plot:"
   ]
  },
  {
   "cell_type": "code",
   "execution_count": null,
   "id": "06602b40",
   "metadata": {},
   "outputs": [],
   "source": [
    "fig = plt.figure()\n",
    "plt.loglog(D_s.index, D_s)\n",
    "plt.ylabel(\"Structure Function D\", fontsize=20, fontweight=\"bold\")\n",
    "plt.axvline(0.5, color=\"black\", lw=2)\n",
    "plt.axvline(0.03, color=\"brown\", lw=2)\n",
    "plt.grid(True, which=\"both\", ls=\"-\")"
   ]
  }
 ],
 "metadata": {
  "kernelspec": {
   "display_name": "Python 3",
   "language": "python",
   "name": "python3"
  },
  "language_info": {
   "codemirror_mode": {
    "name": "ipython",
    "version": 3
   },
   "file_extension": ".py",
   "mimetype": "text/x-python",
   "name": "python",
   "nbconvert_exporter": "python",
   "pygments_lexer": "ipython3",
   "version": "3.10.2"
  }
 },
 "nbformat": 4,
 "nbformat_minor": 5
}
