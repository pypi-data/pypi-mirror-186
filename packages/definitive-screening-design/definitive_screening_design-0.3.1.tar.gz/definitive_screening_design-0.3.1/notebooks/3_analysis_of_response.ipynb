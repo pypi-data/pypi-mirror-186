{
 "cells": [
  {
   "attachments": {},
   "cell_type": "markdown",
   "metadata": {},
   "source": [
    "# Notebook #3: Analysis of the Response\n",
    "To be done..."
   ]
  },
  {
   "cell_type": "code",
   "execution_count": 1,
   "metadata": {},
   "outputs": [],
   "source": [
    "import pandas as pd\n",
    "import definitive_screening_design as dsd"
   ]
  }
 ],
 "metadata": {
  "kernelspec": {
   "display_name": "base1",
   "language": "python",
   "name": "python3"
  },
  "language_info": {
   "codemirror_mode": {
    "name": "ipython",
    "version": 3
   },
   "file_extension": ".py",
   "mimetype": "text/x-python",
   "name": "python",
   "nbconvert_exporter": "python",
   "pygments_lexer": "ipython3",
   "version": "3.8.11 (default, Aug  3 2021, 15:09:35) \n[GCC 7.5.0]"
  },
  "vscode": {
   "interpreter": {
    "hash": "2540cd9198af0b9eaea5a5cb83e008828d2d08e9e651b172f5d346fcf048848a"
   }
  }
 },
 "nbformat": 4,
 "nbformat_minor": 4
}
