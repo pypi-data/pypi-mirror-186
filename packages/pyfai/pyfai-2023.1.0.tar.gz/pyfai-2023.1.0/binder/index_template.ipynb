{
 "cells": [
  {
   "cell_type": "markdown",
   "metadata": {},
   "source": [
    "# [pyFAI](https://github.com/silx-kit/pyFAI) cookbooks and tutorials\n",
    "\n",
    "See the [full documentation](http://www.silx.org/doc/pyFAI/latest/) for more information.",
    "\n",
    "## Notebooks\n",
    "\n"
   ]
  }
 ],
 "metadata": {
  "kernelspec": {
   "display_name": "Python 3",
   "language": "python",
   "name": "python3"
  },
  "language_info": {
   "codemirror_mode": {
    "name": "ipython",
    "version": 3
   },
   "file_extension": ".py",
   "mimetype": "text/x-python",
   "name": "python",
   "nbconvert_exporter": "python",
   "pygments_lexer": "ipython3",
   "version": "3.4.2"
  }
 },
 "nbformat": 4,
 "nbformat_minor": 2
}
