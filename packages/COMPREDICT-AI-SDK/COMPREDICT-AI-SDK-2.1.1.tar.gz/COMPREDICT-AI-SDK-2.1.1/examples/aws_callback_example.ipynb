{
 "cells": [
  {
   "cell_type": "markdown",
   "metadata": {},
   "source": [
    "# S3 Presigned URLs: overview\n",
    "\n",
    "_\"Pre-signed URLs allow you to give your users access to a specific object\n",
    "in your bucket without requiring them to have AWS security credentials or permissions.\"_\n",
    "\n",
    "There are two types of pre-signed urls that can be generated:\n",
    "1. Presigned url (limited functionality)\n",
    "2. Presigned post url (extended functionality)\n",
    "\n",
    "For generating pre-signed and post pre-signed urls with Python,\n",
    "we will use Boto3 package. You can install it simply with pip by running:"
   ]
  },
  {
   "cell_type": "code",
   "execution_count": null,
   "metadata": {
    "ExecuteTime": {
     "end_time": "2021-09-06T07:43:11.791486Z",
     "start_time": "2021-09-06T07:42:56.970973Z"
    },
    "pycharm": {
     "name": "#%%\n"
    }
   },
   "outputs": [],
   "source": [
    "!pip install boto3\n",
    "!pip install COMPREDICT-SDK-AI"
   ]
  },
  {
   "cell_type": "markdown",
   "metadata": {},
   "source": [
    "## Initialize COMPREDICT Client"
   ]
  },
  {
   "cell_type": "code",
   "execution_count": null,
   "metadata": {
    "ExecuteTime": {
     "end_time": "2021-09-06T07:51:35.854678Z",
     "start_time": "2021-09-06T07:51:35.221742Z"
    },
    "pycharm": {
     "name": "#%%\n"
    }
   },
   "outputs": [],
   "source": [
    "import boto3\n",
    "from botocore.client import Config\n",
    "from botocore.exceptions import ClientError\n",
    "from environ import Env\n",
    "import os\n",
    "\n",
    "from compredict.client import api\n",
    "\n",
    "env = Env()\n",
    "env.read_env()"
   ]
  },
  {
   "cell_type": "code",
   "execution_count": null,
   "metadata": {},
   "outputs": [],
   "source": [
    "token = env(\"COMPREDICT_AI_CORE_KEY\")\n",
    "fail_on_error = env(\"COMPREDICT_AI_CORE_FAIL_ON_ERROR\", False)\n",
    "\n",
    "client = api.get_instance(token=token)\n",
    "client.fail_on_error(option=fail_on_error)"
   ]
  },
  {
   "cell_type": "markdown",
   "metadata": {},
   "source": [
    "## Generate presigned URL\n",
    "\n",
    "In order to generate a pre-signed URL, first we need to set the credentials of S3 and some information about the uploaded file:"
   ]
  },
  {
   "cell_type": "code",
   "execution_count": null,
   "metadata": {
    "ExecuteTime": {
     "end_time": "2021-09-06T08:02:25.655465Z",
     "start_time": "2021-09-06T08:02:25.648892Z"
    }
   },
   "outputs": [],
   "source": [
    "os.environ[\"AWS_ACCESS_KEY_ID\"] = env(\"AWS_ACCESS_KEY_ID\")\n",
    "os.environ[\"AWS_SECRET_ACCESS_KEY\"] = env(\"AWS_SECRET_ACCESS_KEY\")\n",
    "region_name = env(\"REGION\")\n",
    "file_name = \"path/to/file/in/s3/my_file.json\"\n",
    "bucket_name = env(\"BUCKET\")"
   ]
  },
  {
   "cell_type": "markdown",
   "metadata": {},
   "source": [
    "Let's implement function for creating pre-signed URL. Notice the usage of boto3 and it's client. This function return\n",
    " simple string with generated url."
   ]
  },
  {
   "cell_type": "code",
   "execution_count": null,
   "metadata": {
    "ExecuteTime": {
     "end_time": "2021-09-06T08:02:26.599771Z",
     "start_time": "2021-09-06T08:02:26.589054Z"
    },
    "pycharm": {
     "name": "#%%\n"
    }
   },
   "outputs": [],
   "source": [
    "def create_get_presigned_url(bucket_name, object_name, expiration=3600):\n",
    "    \"\"\"Generate a presigned URL S3 POST request to upload a file\n",
    "\n",
    "    :param bucket_name: string\n",
    "    :param object_name: string\n",
    "    :return: Dictionary with the following keys:\n",
    "        url: URL to post to\n",
    "        fields: Dictionary of form fields and values to submit with the POST\n",
    "    :return: None if error.\n",
    "    \"\"\"\n",
    "    # Generate a pre-signed S3 POST URL\n",
    "    s3_client = boto3.client('s3', config=Config(signature_version='s3v4'), region_name=region_name)\n",
    "    try:\n",
    "        response = s3_client.generate_presigned_url('put_object',\n",
    "                                                    Params={'Bucket': bucket_name,\n",
    "                                                            'Key': object_name,\n",
    "                                                            },\n",
    "                                                    ExpiresIn=expiration)\n",
    "    except ClientError as e:\n",
    "        return None\n",
    "\n",
    "    return response"
   ]
  },
  {
   "cell_type": "markdown",
   "metadata": {},
   "source": [
    "Now, after setting env variables, specifying filename and bucket, pre-signed url can be generated with the function\n",
    "implemented above."
   ]
  },
  {
   "cell_type": "code",
   "execution_count": null,
   "metadata": {
    "ExecuteTime": {
     "end_time": "2021-09-06T08:02:34.544994Z",
     "start_time": "2021-09-06T08:02:34.525238Z"
    },
    "pycharm": {
     "name": "#%%\n"
    }
   },
   "outputs": [],
   "source": [
    "url = create_get_presigned_url(bucket_name, file_name)"
   ]
  },
  {
   "cell_type": "markdown",
   "metadata": {},
   "source": [
    "Pre-signed URL that we generated, can be used now as callback_url.\n",
    "\n",
    "In order to run algorithm with pre-signed URL, simply add generated url value to `callback_url`arg."
   ]
  },
  {
   "cell_type": "code",
   "execution_count": null,
   "metadata": {
    "pycharm": {
     "name": "#%%\n"
    }
   },
   "outputs": [],
   "source": [
    "task = client.run_algorithm('an-algorithm-id', data, evaluate=False, callback_url=generated_url)"
   ]
  },
  {
   "cell_type": "markdown",
   "metadata": {},
   "source": [
    "## Presigned Post URL\n",
    "\n",
    "For extended functionality, post pre-signed url can be generated. Presigned Post URL allows you to define:\n",
    "\n",
    "- ACL fields.\n",
    "- Meta data of files\n",
    "- Content Type of the uploaded file."
   ]
  },
  {
   "cell_type": "markdown",
   "metadata": {},
   "source": [
    "Now, let's implement a **function for generating post pre-signed url**. Notice, that this function, returns\n",
    "dictionary with not only generated url, but also *fields* dictionary.\n",
    "We will need it later when running an algorithm."
   ]
  },
  {
   "cell_type": "code",
   "execution_count": null,
   "metadata": {
    "ExecuteTime": {
     "end_time": "2021-09-06T08:02:39.159759Z",
     "start_time": "2021-09-06T08:02:39.148821Z"
    },
    "pycharm": {
     "name": "#%%\n"
    }
   },
   "outputs": [],
   "source": [
    "def create_presigned_post(bucket_name, object_name, fields=None, conditions=None, expiration=3600):\n",
    "    # Generate a presigned S3 POST URL\n",
    "    s3_client = boto3.client('s3', config=Config(signature_version='s3v4'), region_name=region_name)\n",
    "    try:\n",
    "        response = s3_client.generate_presigned_post(\n",
    "            Bucket=bucket_name,\n",
    "            Key=object_name,\n",
    "            Fields=fields,\n",
    "            Conditions=conditions,\n",
    "            ExpiresIn=expiration\n",
    "        )\n",
    "    except ClientError as e:\n",
    "        print(str(e))\n",
    "        return None\n",
    "\n",
    "    pre_signed_url = response['url']\n",
    "    fields = response['fields']\n",
    "\n",
    "    return pre_signed_url, fields"
   ]
  },
  {
   "cell_type": "code",
   "execution_count": null,
   "metadata": {
    "ExecuteTime": {
     "end_time": "2021-09-06T08:03:02.848058Z",
     "start_time": "2021-09-06T08:03:02.831261Z"
    }
   },
   "outputs": [],
   "source": [
    "# Adding the ACL and some meta information of the file.\n",
    "fields = {\"ACL\": \"bucket-owner-full-control\", \"x-amz-meta-a-key\": \"a-value\"}\n",
    "conditions = [{\"ACL\": \"bucket-owner-full-control\"}, {\"x-amz-meta-a-key\": \"a-value\"}]\n",
    "\n",
    "url, s3_fields = create_presigned_post(bucket_name, file_name, fields=fields, conditions=conditions)"
   ]
  },
  {
   "cell_type": "markdown",
   "metadata": {},
   "source": [
    "Now, we can use our generated *pre_signed_url* and *fields* as callback_url and callback_param arguments when running\n",
    "algorithms. In case of post pre-signed url, value for callback_param is required.\n",
    "\n",
    "Let's use `fields` to create callback_param dictionary. We have to assign `fields` to `s3_fields` key."
   ]
  },
  {
   "cell_type": "code",
   "execution_count": null,
   "metadata": {
    "ExecuteTime": {
     "end_time": "2021-09-06T07:41:58.504595Z",
     "start_time": "2021-09-06T07:41:58.414965Z"
    },
    "pycharm": {
     "name": "#%%\n"
    }
   },
   "outputs": [],
   "source": [
    "callback_param = {'s3_fields': fields}\n",
    "\n",
    "# In case of multiple callbacks where first callback is the s3 generated url\n",
    "# callback_param = [{'s3_fields': fields}, {}]"
   ]
  },
  {
   "cell_type": "markdown",
   "metadata": {},
   "source": [
    "Now we can run algorithm with `callback_url` as our post pre-signed url and `callback_param` as dictionary created above."
   ]
  },
  {
   "cell_type": "code",
   "execution_count": null,
   "metadata": {
    "pycharm": {
     "name": "#%%\n"
    }
   },
   "outputs": [],
   "source": [
    "task = client.run_algorithm('an-algorithm-id', data, evaluate=False,\n",
    "                            callback_url=generated_url, callback_param=callback_param)"
   ]
  },
  {
   "cell_type": "markdown",
   "metadata": {},
   "source": [
    "If `s3_fields` wasn't given in callback_param, then AI Core will assume this is a presigned url and will send the results as PUT to S3 and will fail."
   ]
  },
  {
   "cell_type": "markdown",
   "metadata": {},
   "source": [
    "## Uploaded File"
   ]
  },
  {
   "cell_type": "markdown",
   "metadata": {},
   "source": [
    "By default The uploaded file to S3 will be json file with the following format:\n",
    "\n",
    "~~~json\n",
    "{\n",
    "    \"job_id\": str,\n",
    "    \"status\": \"Finished\",\n",
    "    \"callback_param\": dict,\n",
    "    \"success\": bool,\n",
    "    \"results\": dict\n",
    "}\n",
    "~~~\n",
    "\n",
    "Where results is a dictionary containing the predictions and evaluations if given."
   ]
  },
  {
   "cell_type": "markdown",
   "metadata": {},
   "source": [
    "For further documentation on boto3 and presigned urls, please visit this [tutorial](https://boto3.amazonaws.com/v1/documentation/api/latest/reference/services/s3.html#S3.Client.generate_presigned_post). "
   ]
  }
 ],
 "metadata": {
  "kernelspec": {
   "display_name": "Python 3",
   "language": "python",
   "name": "python3"
  },
  "language_info": {
   "codemirror_mode": {
    "name": "ipython",
    "version": 3
   },
   "file_extension": ".py",
   "mimetype": "text/x-python",
   "name": "python",
   "nbconvert_exporter": "python",
   "pygments_lexer": "ipython3",
   "version": "3.7.6"
  },
  "toc": {
   "base_numbering": 1,
   "nav_menu": {},
   "number_sections": false,
   "sideBar": true,
   "skip_h1_title": false,
   "title_cell": "Table of Contents",
   "title_sidebar": "Contents",
   "toc_cell": false,
   "toc_position": {},
   "toc_section_display": true,
   "toc_window_display": false
  }
 },
 "nbformat": 4,
 "nbformat_minor": 1
}