{
 "cells": [
  {
   "cell_type": "markdown",
   "metadata": {
    "collapsed": true,
    "pycharm": {
     "name": "#%% md\n"
    }
   },
   "source": [
    "## Multiple Callbacks\n",
    "\n",
    "\n",
    "AI Core supports multiple callbacks. Meaning that, if a client wishes to have results of running algorithm sent to a\n",
    "couple of different locations, then the client can specify callback_url as a list of those addresses.\n",
    "\n",
    "Currently AI Core supports sending data to:\n",
    "\n",
    "- Cloud Storages:\n",
    "    - AWS S3.\n",
    "    - Azure Storage Account.\n",
    "- POST@endpoint at client's server.\n",
    "\n",
    "In both cases, the results will be sent as JSON content type. The different between **Cloud Storages** and **endpoints** is that in the former, the results are uploaded as a file, whereas in the latter, the results are POSTed to the endpoint.\n",
    "\n",
    "The structure of the JSON is as following:\n",
    "\n",
    "~~~json\n",
    "{\n",
    "    \"job_id\": str,\n",
    "    \"status\": \"Finished\",\n",
    "    \"callback_param\": dict,\n",
    "    \"success\": bool,\n",
    "    \"results\": dict\n",
    "}\n",
    "~~~\n",
    "\n",
    "If you have a specific case where you want the file to be uploaded/sent in specific schema and format, then email COMRPEDICT to create a custom callback for you.\n",
    "\n",
    "Let's see how we can run algorithms with specifying multiple callbacks.\n",
    "\n",
    "**1. Initialize the client**\n",
    "\n",
    "- Import needed libraries and api class from compredict.client\n",
    "- Read needed env variables\n",
    "- Initialize client with token\n",
    "- Add fail_on_error option (it's optional, by default it is set to True)"
   ]
  },
  {
   "cell_type": "code",
   "execution_count": null,
   "metadata": {
    "pycharm": {
     "name": "#%%\n"
    }
   },
   "outputs": [],
   "source": [
    "from environ import Env\n",
    "import os\n",
    "\n",
    "from compredict.client import api\n",
    "\n",
    "env = Env()\n",
    "env.read_env()"
   ]
  },
  {
   "cell_type": "code",
   "execution_count": null,
   "metadata": {
    "pycharm": {
     "name": "#%%\n"
    }
   },
   "outputs": [],
   "source": [
    "token = env(\"COMPREDICT_AI_CORE_KEY\")\n",
    "fail_on_error = env(\"COMPREDICT_AI_CORE_FAIL_ON_ERROR\", False)\n",
    "\n",
    "client = api.get_instance(token=token)\n",
    "client.fail_on_error(option=fail_on_error)"
   ]
  },
  {
   "cell_type": "markdown",
   "metadata": {},
   "source": [
    "**2. Create multiple callbacks list**\n",
    "\n",
    "Simply create a list with urls as strings, for example:"
   ]
  },
  {
   "cell_type": "code",
   "execution_count": null,
   "metadata": {
    "pycharm": {
     "name": "#%%\n"
    }
   },
   "outputs": [],
   "source": [
    "multiple_callbacks = [\"http://website/predictions/data.com\", \"https://me.myportal.cloudapp.azure.com\"]"
   ]
  },
  {
   "cell_type": "markdown",
   "metadata": {
    "pycharm": {
     "name": "#%% md\n"
    }
   },
   "source": [
    "**3. Create callback params**\n",
    "\n",
    "You can add additional parameter to the callback, to be sent back with results.\n",
    "In case of multiple callbacks, you can specify:\n",
    " - one callback parameter dictionary that will be applied to all of the\n",
    "callback urls\n",
    " - different callback params for each callback url in a form of list of dictionaries (make sure that the list of\n",
    " dictionaries with params is equal to the list of callback urls)"
   ]
  },
  {
   "cell_type": "code",
   "execution_count": null,
   "metadata": {
    "pycharm": {
     "name": "#%%\n"
    }
   },
   "outputs": [],
   "source": [
    "#example of callback_params structure\n",
    "callback_params = [{\"param1\": \"value\", \"param2\": \"value\"}, {\"param_1\": \"value\", \"param_2\": \"value\"}]"
   ]
  },
  {
   "cell_type": "markdown",
   "metadata": {},
   "source": [
    "**4. Run algorithm**\n",
    "\n",
    "- You can run algorithm directly on algorithm instance:"
   ]
  },
  {
   "cell_type": "code",
   "execution_count": null,
   "metadata": {
    "pycharm": {
     "name": "#%%\n"
    }
   },
   "outputs": [],
   "source": [
    "# check for algorithms available to you:\n",
    "algorithms = client.get_algorithms()\n",
    "\n",
    "# choose one of the algorithms, for example:\n",
    "algorithm = algorithms[0]\n",
    "\n",
    "#specify data, that you want to use for prediction\n",
    "features = {\"data\": \"values\"}\n",
    "parameters = {\"parameter\": \"test\"}\n",
    "\n",
    "# run algorithm with multiple callbacks and additional callback parameters created above\n",
    "results = algorithm.run(features, parameters=parameters, evaluate=False, callback_url=multiple_callbacks,\n",
    "                        callback_param=callback_params)"
   ]
  },
  {
   "cell_type": "markdown",
   "metadata": {
    "pycharm": {
     "name": "#%% md\n"
    }
   },
   "source": [
    "- Or you can run algorithm directly on client instance with algorithm id\n"
   ]
  },
  {
   "cell_type": "code",
   "execution_count": null,
   "metadata": {
    "pycharm": {
     "name": "#%%\n"
    }
   },
   "outputs": [],
   "source": [
    "#specify data, that you want to use for prediction\n",
    "features = {\"data\": \"values\"}\n",
    "parameters = {\"parameter\": \"test\"}\n",
    "\n",
    "#run algorithm with multiple callbacks and callback params set\n",
    "results = client.run_algorithm(algorithm_id='here_is_algorithm_id', features=features,\n",
    "                               parameters=parameters,\n",
    "                               evaluate=False, callback_url=multiple_callbacks,\n",
    "                               callback_param=callback_params)"
   ]
  }
 ],
 "metadata": {
  "kernelspec": {
   "display_name": "Python 3",
   "language": "python",
   "name": "python3"
  },
  "language_info": {
   "codemirror_mode": {
    "name": "ipython",
    "version": 3
   },
   "file_extension": ".py",
   "mimetype": "text/x-python",
   "name": "python",
   "nbconvert_exporter": "python",
   "pygments_lexer": "ipython3",
   "version": "3.7.6"
  },
  "toc": {
   "base_numbering": 1,
   "nav_menu": {},
   "number_sections": false,
   "sideBar": true,
   "skip_h1_title": false,
   "title_cell": "Table of Contents",
   "title_sidebar": "Contents",
   "toc_cell": false,
   "toc_position": {},
   "toc_section_display": true,
   "toc_window_display": false
  }
 },
 "nbformat": 4,
 "nbformat_minor": 1
}