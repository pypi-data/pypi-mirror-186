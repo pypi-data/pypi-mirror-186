{
 "cells": [
  {
   "attachments": {},
   "cell_type": "markdown",
   "metadata": {},
   "source": [
    "```\n",
    "   _____         __   __  ____                   _____  __     __\n",
    "  / ____|   /\\   \\ \\ / / / __ \\            /\\   |  __ \\ \\ \\   / /\n",
    " | (___    /  \\   \\ V / | |  | |  ____    /  \\  | |__) | \\ \\_/ / \n",
    "  \\___ \\  / /\\ \\   ) (  | |  | | |____|  / /\\ \\ |  ___/   \\   /  \n",
    "  ____) |/ ____ \\ / _ \\ | |__| |        / ____ \\| |        | |   \n",
    " |_____//_/    \\//_/ \\_\\ \\____/        /_/    \\/|_|        |_|  \n",
    " ```\n",
    "\n",
    "[![python](https://img.shields.io/pypi/pyversions/saxo-apy?style=flat-square)](https://github.com/gidven/saxo-openapi-client-python)\n",
    "[![pypi](https://img.shields.io/pypi/v/saxo-apy?style=flat-square)](https://pypi.org/project/saxo-apy)\n",
    "[![license](https://img.shields.io/github/license/gidven/saxo-openapi-client-python?style=flat-square)](https://github.com/gidven/saxo-openapi-client-python/blob/main/LICENSE)\n",
    "\n",
    "# Saxo-APY: Python Client for Saxo Bank OpenAPI\n",
    "\n",
    "*A lightweight Python client for hassle-free tinkering with Saxo OpenAPI.*\n",
    "\n",
    "> NOTE: This Python package was created by an enthusiast as a learning project. None of the contents in this repository are maintained by Saxo Bank, and Saxo Bank does not guarantee correctness of the provided implementation."
   ]
  },
  {
   "attachments": {},
   "cell_type": "markdown",
   "metadata": {},
   "source": [
    "## At First Glance"
   ]
  },
  {
   "cell_type": "code",
   "execution_count": 1,
   "metadata": {},
   "outputs": [
    {
     "name": "stdout",
     "output_type": "stream",
     "text": [
      "🌐 opening login page in browser - waiting for user to authenticate... 🔑\n",
      "📞 received callback from Saxo SSO\n",
      "✅ authorization succeeded - connected to SIM environment with WRITE / TRADE permissions (session ID ceb2be9095f64eaf9e5caeb21d6fc799)\n",
      "\n",
      "Welcome 16371609!\n",
      "EURUSD is trading at: 1.08229 / 1.08249 (Bid/Ask)\n",
      "You have: 15 orders in your portfolio\n",
      "\n"
     ]
    }
   ],
   "source": [
    "from saxo_apy import SaxoOpenAPIClient\n",
    "\n",
    "client = SaxoOpenAPIClient(\"app_config.json\")\n",
    "client.login()\n",
    "\n",
    "me = client.get(\"port/v1/users/me\")\n",
    "eurusd_price = client.get(\"/trade/v1/infoprices?Uic=21&AssetType=FxSpot\")\n",
    "portfolio_orders = client.get(\"/port/v1/orders/me\")\n",
    "\n",
    "print(\n",
    "    f\"\"\"\n",
    "Welcome {me[\"UserId\"]}!\n",
    "EURUSD is trading at: {eurusd_price[\"Quote\"][\"Bid\"]} / {eurusd_price[\"Quote\"][\"Ask\"]} (Bid/Ask)\n",
    "You have: {portfolio_orders[\"__count\"]} orders in your portfolio\n",
    "\"\"\"\n",
    ")"
   ]
  },
  {
   "attachments": {},
   "cell_type": "markdown",
   "metadata": {},
   "source": [
    "## Features\n",
    "\n",
    "- [x] Authentication and session management with Saxo SSO\n",
    "    - Supports OAuth 2.0 `Code` grant type\n",
    "    - Works seamlessly in both `SIM` and `LIVE` environments\n",
    "    - Automated handling of callback from SSO (optional)\n",
    "    - Headless authentication for deployed applications (optional)\n",
    "    - Keep sessions and active websockets connections alive by refreshing access tokens via asyncio\n",
    "- [x] Read operations (`GET` requests)\n",
    "- [x] Write operations (`POST`, `PUT`, `PATCH`, `DELETE` requests)\n",
    "- [x] Supports streaming and decoding of streaming messages\n",
    "- [x] Error handling with comprehensive exception messages"
   ]
  },
  {
   "attachments": {},
   "cell_type": "markdown",
   "metadata": {},
   "source": [
    "## Installation\n",
    "\n",
    "This python package is available on PyPI. Install the client by running the below `pip` command in your terminal:\n",
    "\n",
    "`pip install saxo-apy`"
   ]
  },
  {
   "attachments": {},
   "cell_type": "markdown",
   "metadata": {},
   "source": [
    "## Requirements\n",
    "\n",
    "- Python 3.7+\n",
    "- An OpenAPI application registered [on Saxo Bank's Developer Portal](https://www.developer.saxo/openapi/appmanagement)\n",
    "    - [Create a free developer account](https://www.developer.saxo/accounts/sim/signup) if you don't have one already.\n",
    "    - Ensure the application is set up with `Grant Type: Code` as authentication flow.\n",
    "    - At least 1 localhost redirect needs to be defined such as `http://localhost:12321/redirect` (for development/testing purposes)\n",
    "    - (Optional) enable trading permissions for the app if you want to 'write' to your account (and place orders)"
   ]
  },
  {
   "attachments": {},
   "cell_type": "markdown",
   "metadata": {},
   "source": [
    "## Dependencies\n",
    "\n",
    "This package requires 4 dependencies:\n",
    "\n",
    "- `pydantic`, for parsing config and JSON responses \n",
    "- `Flask`, to run a local server and catch the callback from Saxo SSO\n",
    "- `httpx`, for sending requests to OpenAPI and managing the client session\n",
    "- `websockets`, for setting up a websocket connection to Saxo's streaming service\n",
    "- `loguru`, to handle logging"
   ]
  },
  {
   "attachments": {},
   "cell_type": "markdown",
   "metadata": {},
   "source": [
    "## Notes\n",
    "\n",
    "The client supports OAuth Code flow and will automatically spin up a server to listen for the redirect from Saxo SSO. At least 1 `localhost` redirect needs to be defined in application config for this purpose.\n",
    "\n",
    "By default, the client will use the _first available localhost redirect_ to run the server on (typically only 1 exists in the config).\n",
    "\n",
    "The client validates redirect urls in application config automatically. OAuth 2.0 code flow requires a fixed port to be specified on the redirect url. In case this is incorrectly configured, an error message will guide you to ensure app config is correct with OpenAPI:\n",
    "\n",
    "```\n",
    "one or more redirect urls have no port configured, which is required for grant type 'Code' - ensure a port is configured in the app config object for each url (example: http://localhost:23432/redirect)\n",
    "```"
   ]
  }
 ],
 "metadata": {
  "kernelspec": {
   "display_name": "venv",
   "language": "python",
   "name": "python3"
  },
  "language_info": {
   "codemirror_mode": {
    "name": "ipython",
    "version": 3
   },
   "file_extension": ".py",
   "mimetype": "text/x-python",
   "name": "python",
   "nbconvert_exporter": "python",
   "pygments_lexer": "ipython3",
   "version": "3.11.0"
  },
  "orig_nbformat": 4,
  "vscode": {
   "interpreter": {
    "hash": "8361e8afa66b46612775fe6a24b07e9cbdf8a73eb81e96bd999faaeec5ba2a27"
   }
  }
 },
 "nbformat": 4,
 "nbformat_minor": 2
}
