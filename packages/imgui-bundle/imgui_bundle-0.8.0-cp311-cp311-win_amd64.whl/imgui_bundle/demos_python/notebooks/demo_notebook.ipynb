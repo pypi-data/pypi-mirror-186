{
 "cells": [
  {
   "cell_type": "code",
   "execution_count": 7,
   "metadata": {},
   "outputs": [],
   "source": [
    "import imgui_bundle\n",
    "from imgui_bundle import implot, imgui, imgui_knobs, immapp\n",
    "import time\n",
    "import numpy as np"
   ]
  },
  {
   "cell_type": "code",
   "execution_count": 10,
   "metadata": {
    "code_folding": []
   },
   "outputs": [
    {
     "data": {
      "image/png": "[encoded data removed]",
      "text/plain": [
       "<PIL.Image.Image image mode=RGB size=150x225>"
      ]
     },
     "metadata": {},
     "output_type": "display_data"
    },
    {
     "data": {
      "text/html": [
       "\n",
       "        <script>\n",
       "        function btnClick_None(btn) {\n",
       "            // alert(\"btnClick_None\");\n",
       "            cell_element = btn.parentElement.parentElement.parentElement.parentElement.parentElement;\n",
       "            cell_idx = Jupyter.notebook.get_cell_elements().index(cell_element)\n",
       "            IPython.notebook.kernel.execute(\"imgui_bundle.JAVASCRIPT_RUN_ID='None'\")\n",
       "            Jupyter.notebook.execute_cells([cell_idx])\n",
       "        }\n",
       "        </script>        \n",
       "        <button onClick=\"btnClick_None(this)\">Run</button>\n",
       "        "
      ],
      "text/plain": [
       "<IPython.core.display.HTML object>"
      ]
     },
     "metadata": {},
     "output_type": "display_data"
    }
   ],
   "source": [
    "def haiku_heart():\n",
    "    vals = np.arange(0, np.pi * 2, 0.01)\n",
    "    x = np.power(np.sin(vals), 3) * 16\n",
    "    y = 13 * np.cos(vals) - 5 * np.cos(2 * vals) - 2 * np.cos(3 * vals) - np.cos(4 * vals)\n",
    "\n",
    "    phase = 0\n",
    "    t0 = time.time() + 0.2\n",
    "    heart_pulse_rate = 80\n",
    "\n",
    "    def gui():\n",
    "        nonlocal heart_pulse_rate, phase, t0\n",
    "        t = time.time()\n",
    "        phase += (t - t0) * heart_pulse_rate / (np.pi * 2)\n",
    "        k = 0.8 + 0.1 * np.cos(phase)\n",
    "        t0 = t\n",
    "        imgui.text(\"Bloat free code\")\n",
    "        implot.begin_plot(\"Heart\")\n",
    "        implot.plot_line(\"\", x * k, y * k)\n",
    "        implot.end_plot()\n",
    "        _, heart_pulse_rate = imgui_knobs.knob(\"Pulse\", heart_pulse_rate, 30, 180)\n",
    "\n",
    "    immapp.run_nb(gui, window_size=(300, 450), fps_idle=20, thumbnail_ratio=0.25)\n",
    "\n",
    "\n",
    "haiku_heart()"
   ]
  },
  {
   "cell_type": "code",
   "execution_count": 5,
   "metadata": {},
   "outputs": [
    {
     "data": {
      "image/png": "[encoded data removed]",
      "text/plain": [
       "<PIL.Image.Image image mode=RGB size=240x150>"
      ]
     },
     "metadata": {},
     "output_type": "display_data"
    },
    {
     "data": {
      "text/html": [
       "\n",
       "        <script>\n",
       "        function btnClick_None(btn) {\n",
       "            // alert(\"btnClick_None\");\n",
       "            cell_element = btn.parentElement.parentElement.parentElement.parentElement.parentElement;\n",
       "            cell_idx = Jupyter.notebook.get_cell_elements().index(cell_element)\n",
       "            IPython.notebook.kernel.execute(\"imgui_bundle.JAVASCRIPT_RUN_ID='None'\")\n",
       "            Jupyter.notebook.execute_cells([cell_idx])\n",
       "        }\n",
       "        </script>        \n",
       "        <button onClick=\"btnClick_None(this)\">Run</button>\n",
       "        "
      ],
      "text/plain": [
       "<IPython.core.display.HTML object>"
      ]
     },
     "metadata": {},
     "output_type": "display_data"
    }
   ],
   "source": [
    "lin = np.array([8, 8, 9, 7, 8, 8, 8, 9, 7, 8])\n",
    "bar = np.array([1, 2, 5, 3, 4, 1, 2, 5, 3, 4])\n",
    "dot = np.array([7, 6, 6, 7, 8, 5, 6, 5, 8, 7])\n",
    "\n",
    "\n",
    "def mixed_plot():\n",
    "    imgui.style_colors_light()\n",
    "    if implot.begin_plot(\"Mixed plot\"):\n",
    "        implot.setup_axes(\"x-axis\", \"y-axis\")\n",
    "        implot.setup_axes_limits(-0.5, 9.5, 0, 10)\n",
    "        implot.plot_bars(\"Bars\", bar, 0.5)\n",
    "        implot.plot_line(\"Line\", lin)\n",
    "        implot.plot_scatter(\"Scatter\", dot)\n",
    "        implot.end_plot()\n",
    "\n",
    "\n",
    "immapp.run_nb(mixed_plot, window_size=(800, 500), thumbnail_height=150)"
   ]
  },
  {
   "cell_type": "code",
   "execution_count": 16,
   "metadata": {},
   "outputs": [
    {
     "data": {
      "image/png": "[encoded data removed]",
      "text/plain": [
       "<PIL.Image.Image image mode=RGB size=200x200>"
      ]
     },
     "metadata": {},
     "output_type": "display_data"
    },
    {
     "data": {
      "text/html": [
       "\n",
       "        <script>\n",
       "        function btnClick_None(btn) {\n",
       "            // alert(\"btnClick_None\");\n",
       "            cell_element = btn.parentElement.parentElement.parentElement.parentElement.parentElement;\n",
       "            cell_idx = Jupyter.notebook.get_cell_elements().index(cell_element)\n",
       "            IPython.notebook.kernel.execute(\"imgui_bundle.JAVASCRIPT_RUN_ID='None'\")\n",
       "            Jupyter.notebook.execute_cells([cell_idx])\n",
       "        }\n",
       "        </script>        \n",
       "        <button onClick=\"btnClick_None(this)\">Run</button>\n",
       "        "
      ],
      "text/plain": [
       "<IPython.core.display.HTML object>"
      ]
     },
     "metadata": {},
     "output_type": "display_data"
    }
   ],
   "source": [
    "from imgui_bundle.demos_python.haikus.demo_node_love_triangle import Lover, Tie\n",
    "from imgui_bundle import imgui_node_editor as ed\n",
    "\n",
    "\n",
    "Romeo = Lover(\"Romeo\")\n",
    "Juliet = Lover(\"Juliet\")\n",
    "CountParis = Lover(\"Count Paris\")\n",
    "lovers = [Romeo, Juliet, CountParis]\n",
    "links = [\n",
    "    Tie(Romeo, \"loves\", Juliet),\n",
    "    Tie(Juliet, \"loves\", Romeo),\n",
    "    Tie(CountParis, \"loves\", Juliet),\n",
    "    Tie(CountParis, \"hates\", Romeo),\n",
    "    # Tie(Juliet, \"hates\", CountParis),\n",
    "]\n",
    "\n",
    "\n",
    "def gui_romeo_and_juliet():\n",
    "    ed.begin(\"Romeo and Juliet\")\n",
    "    for lover in lovers:\n",
    "        lover.draw()\n",
    "    for link in links:\n",
    "        link.draw()\n",
    "    ed.end()\n",
    "\n",
    "\n",
    "imgui_bundle.run_nb(\n",
    "    gui_romeo_and_juliet, window_size=(450, 450), window_title=\"It will not end well...\", thumbnail_height=200\n",
    ")"
   ]
  },
  {
   "cell_type": "code",
   "execution_count": null,
   "metadata": {},
   "outputs": [],
   "source": []
  }
 ],
 "metadata": {
  "kernelspec": {
   "display_name": "Python 3 (ipykernel)",
   "language": "python",
   "name": "python3"
  },
  "language_info": {
   "codemirror_mode": {
    "name": "ipython",
    "version": 3
   },
   "file_extension": ".py",
   "mimetype": "text/x-python",
   "name": "python",
   "nbconvert_exporter": "python",
   "pygments_lexer": "ipython3",
   "version": "3.11.0"
  },
  "toc": {
   "base_numbering": 1,
   "nav_menu": {},
   "number_sections": true,
   "sideBar": true,
   "skip_h1_title": false,
   "title_cell": "Table of Contents",
   "title_sidebar": "Contents",
   "toc_cell": false,
   "toc_position": {},
   "toc_section_display": true,
   "toc_window_display": false
  },
  "varInspector": {
   "cols": {
    "lenName": 16,
    "lenType": 16,
    "lenVar": 40
   },
   "kernels_config": {
    "python": {
     "delete_cmd_postfix": "",
     "delete_cmd_prefix": "del ",
     "library": "var_list.py",
     "varRefreshCmd": "print(var_dic_list())"
    },
    "r": {
     "delete_cmd_postfix": ") ",
     "delete_cmd_prefix": "rm(",
     "library": "var_list.r",
     "varRefreshCmd": "cat(var_dic_list()) "
    }
   },
   "types_to_exclude": [
    "module",
    "function",
    "builtin_function_or_method",
    "instance",
    "_Feature"
   ],
   "window_display": false
  },
  "vscode": {
   "interpreter": {
    "hash": "f45132d7179b8b7219f51f223da7f8e916aba8422ce78b267e8029e2edf4cf1e"
   }
  }
 },
 "nbformat": 4,
 "nbformat_minor": 4
}
