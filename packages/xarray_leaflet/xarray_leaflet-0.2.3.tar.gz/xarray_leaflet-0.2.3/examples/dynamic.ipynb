{
 "cells": [
  {
   "cell_type": "markdown",
   "metadata": {},
   "source": [
    "In order to run this notebook, you need to install the following packages:\n",
    "\n",
    "- `requests`\n",
    "- `tqdm`\n",
    "- `matplotlib`\n",
    "- `scipy`\n",
    "- `xarray-leaflet`\n",
    "- `dask`\n",
    "\n",
    "The recommended way is: `conda install -c conda-forge requests tqdm matplotlib scipy xarray_leaflet dask`"
   ]
  },
  {
   "cell_type": "code",
   "execution_count": null,
   "metadata": {},
   "outputs": [],
   "source": [
    "import requests\n",
    "import warnings\n",
    "import os\n",
    "from tqdm import tqdm\n",
    "import zipfile\n",
    "import rioxarray\n",
    "import xarray as xr\n",
    "import numpy as np\n",
    "import scipy.ndimage\n",
    "from matplotlib import pyplot as plt\n",
    "import xarray_leaflet\n",
    "from rasterio.warp import Resampling\n",
    "from xarray_leaflet.transform import passthrough, normalize\n",
    "from ipyleaflet import Map, basemaps"
   ]
  },
  {
   "cell_type": "markdown",
   "metadata": {},
   "source": [
    "We first download the awesome [HydroSHEDS](https://hydrosheds.org) dataset, and in particular the flow accumulation for South America. You can think of flow accumulation as a potential river flow, so we will have a visual representation of rivers, including the great Amazon river."
   ]
  },
  {
   "cell_type": "code",
   "execution_count": null,
   "metadata": {},
   "outputs": [],
   "source": [
    "url = 'https://edcintl.cr.usgs.gov/downloads/sciweb1/shared/hydrosheds/sa_30s_zip_grid/sa_acc_30s_grid.zip'\n",
    "filename = os.path.basename(url)\n",
    "name = filename[:filename.find('_grid')]\n",
    "adffile = name + '/' + name + '/w001001.adf'\n",
    "\n",
    "if not os.path.exists(adffile):\n",
    "    r = requests.get(url, stream=True)\n",
    "    with open(filename, 'wb') as f:\n",
    "        total_length = int(r.headers.get('content-length'))\n",
    "        for chunk in tqdm(r.iter_content(chunk_size=1024), total=(total_length/1024) + 1):\n",
    "            if chunk:\n",
    "                f.write(chunk)\n",
    "                f.flush()\n",
    "    zip = zipfile.ZipFile(filename)\n",
    "    zip.extractall('.')"
   ]
  },
  {
   "cell_type": "markdown",
   "metadata": {},
   "source": [
    "Let's open the box and see what's in there."
   ]
  },
  {
   "cell_type": "code",
   "execution_count": null,
   "metadata": {},
   "outputs": [],
   "source": [
    "da = rioxarray.open_rasterio(adffile, masked=True)\n",
    "da"
   ]
  },
  {
   "cell_type": "markdown",
   "metadata": {},
   "source": [
    "We just need to select the band. We will also chunk it in order to improve performances."
   ]
  },
  {
   "cell_type": "code",
   "execution_count": null,
   "metadata": {},
   "outputs": [],
   "source": [
    "da = da.sel(band=1)\n",
    "da = da.chunk((1000, 1000))\n",
    "warnings.filterwarnings(\"ignore\")"
   ]
  },
  {
   "cell_type": "markdown",
   "metadata": {},
   "source": [
    "`xarray-leaflet` has two modes, one is for static maps and the other for dynamic maps. By dynamic we mean that you won't see the same thing depending on the current map view. For instance, if you zoom in you might want to show details that would otherwise be hidden. So the map really adapts to where you look on the Earth. The downside of dynamic maps is that you will see more flickering as you interact with the map, because tiles have to be refreshed as soon as you drag or zoom.\n",
    "\n",
    "On the contrary, static maps won't be as reactive with respect to the location. Of course they will refine as you zoom in, but they won't change dramatically. On the other hand, they are rendered really smoothly.\n",
    "\n",
    "This example can be configured to work both in static or dynamic mode. You can set the following `dynamic` variable to `True` or `False` in order to switch between the two modes (you will have to re-execute the cells to take it into account)."
   ]
  },
  {
   "cell_type": "code",
   "execution_count": null,
   "metadata": {},
   "outputs": [],
   "source": [
    "# you can change the value of this variable to True or False\n",
    "# and see the difference in the interaction with the map\n",
    "\n",
    "dynamic = True"
   ]
  },
  {
   "cell_type": "markdown",
   "metadata": {},
   "source": [
    "There are 4 stages in xarray-leaflet's data pipe where you can apply transformations to your data. The first one operates on the whole `DataArray`, even the part that is not visible on the map. This is often where you want to normalize your data to keep the values between 0 and 1. The default transformation for this stage does exactly that, so if you don't want to add any transformation at this stage, just don't redefine it. In this example, we will keep the default transformation for the static mode, and have our own normalization in the next stage for the dynamic mode.\n",
    "\n",
    "The second transformation operates on the visible part. Often, this is where you want to apply dynamic transformations. Transformations are Python functions accepting the data as first argument and optional parameters from the previous transformation. In this example, we won't change the data for the static mode, and normalize it for the dynamic mode."
   ]
  },
  {
   "cell_type": "code",
   "execution_count": null,
   "metadata": {},
   "outputs": [],
   "source": [
    "if dynamic:\n",
    "    # dynamic map\n",
    "    transform0 = passthrough\n",
    "    transform1 = normalize\n",
    "else:\n",
    "    # static map\n",
    "    transform0 = normalize\n",
    "    transform1 = passthrough"
   ]
  },
  {
   "cell_type": "markdown",
   "metadata": {},
   "source": [
    "The third transformation applies to the data contained in each Leaflet tile before reprojection. Reprojection needs your data to fit into memory, so you may want to downsample your data and keep approximately the same number of points as there are in a tile (256 x 256). The default transformation for this stage does just that, but we will change it a little bit so that the aggregation function is not `mean` but `max`. We also downsample our data but it is very specific to this dataset."
   ]
  },
  {
   "cell_type": "code",
   "execution_count": null,
   "metadata": {},
   "outputs": [],
   "source": [
    "def transform2(array, *args, **kwargs):\n",
    "    tile_width = kwargs['tile_width']\n",
    "    tile_height = kwargs['tile_height']\n",
    "    ny, nx = array.shape\n",
    "    wx = nx // (tile_width // 2)\n",
    "    wy = ny // (tile_height // 2)\n",
    "    dim = {}\n",
    "    if wx > 1:\n",
    "        dim['x'] = wx\n",
    "    if wy > 1:\n",
    "        dim['y'] = wy\n",
    "    array = array.coarsen(**dim, boundary='pad')\n",
    "    with warnings.catch_warnings():\n",
    "        warnings.simplefilter(\"ignore\", category=RuntimeWarning)\n",
    "        array = xr.core.rolling.DataArrayCoarsen.max(array)\n",
    "    return array"
   ]
  },
  {
   "cell_type": "markdown",
   "metadata": {},
   "source": [
    "In the fourth and last transformation, the data has already been reprojected to Web Mercator (the projection used in Leaflet by default). This is the last opportunity to transform your data before it is saved to a `PNG` file and sent to the browser. That's often when you want to apply styling. Here we make the rivers appear thicker and we reduce the amplitude with a square root function."
   ]
  },
  {
   "cell_type": "code",
   "execution_count": null,
   "metadata": {},
   "outputs": [],
   "source": [
    "def transform3(array, *args, **kwargs):\n",
    "    radius = 2\n",
    "    circle = np.zeros((2*radius+1, 2*radius+1)).astype('uint8')\n",
    "    y, x = np.ogrid[-radius:radius+1,-radius:radius+1]\n",
    "    index = x**2 + y**2 <= radius**2\n",
    "    circle[index] = 1\n",
    "    with warnings.catch_warnings():\n",
    "        warnings.simplefilter(\"ignore\", category=RuntimeWarning)\n",
    "        array = np.sqrt(array)\n",
    "    array = scipy.ndimage.maximum_filter(array, footprint=circle)\n",
    "    return array"
   ]
  },
  {
   "cell_type": "markdown",
   "metadata": {},
   "source": [
    "We are almost done, we just need to create a map before passing it to our `DataArray` extension."
   ]
  },
  {
   "cell_type": "code",
   "execution_count": null,
   "metadata": {},
   "outputs": [],
   "source": [
    "m = Map(center=[-20, -60], zoom=3, basemap=basemaps.CartoDB.DarkMatter, interpolation='nearest')\n",
    "m"
   ]
  },
  {
   "cell_type": "markdown",
   "metadata": {},
   "source": [
    "To show our data on the map, we call `leaflet.plot()` on our `DataArray`, and pass as parameters the map, the transformation functions, the `dynamic` value, and the resampling method for the reprojection."
   ]
  },
  {
   "cell_type": "code",
   "execution_count": null,
   "metadata": {
    "scrolled": true
   },
   "outputs": [],
   "source": [
    "l = da.leaflet.plot(m,\n",
    "                    transform0=transform0,\n",
    "                    transform1=transform1,\n",
    "                    transform2=transform2,\n",
    "                    transform3=transform3,\n",
    "                    colormap=plt.cm.inferno,\n",
    "                    dynamic=dynamic,\n",
    "                    resampling=Resampling.max)\n",
    "l.interact(opacity=(0.0,1.0,0.1))"
   ]
  },
  {
   "cell_type": "markdown",
   "metadata": {},
   "source": [
    "You can now drag and zoom, explore different locations, and if you chose `dynamic=True` you should see details being revealed as you interact. If you chose `dynamic=False`, the map should just refine as you zoom in, but should be more reactive and less flickering. "
   ]
  }
 ],
 "metadata": {
  "kernelspec": {
   "display_name": "Python 3 (ipykernel)",
   "language": "python",
   "name": "python3"
  },
  "language_info": {
   "codemirror_mode": {
    "name": "ipython",
    "version": 3
   },
   "file_extension": ".py",
   "mimetype": "text/x-python",
   "name": "python",
   "nbconvert_exporter": "python",
   "pygments_lexer": "ipython3",
   "version": "3.9.6"
  }
 },
 "nbformat": 4,
 "nbformat_minor": 4
}
